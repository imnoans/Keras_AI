{
 "cells": [
  {
   "cell_type": "code",
   "execution_count": 5,
   "metadata": {},
   "outputs": [],
   "source": [
    "from tensorflow import keras\n",
    "import numpy as np\n",
    "import matplotlib.pyplot as plt\n",
    "from keras import layers\n",
    "import tensorflow as tf\n"
   ]
  },
  {
   "cell_type": "code",
   "execution_count": 9,
   "metadata": {},
   "outputs": [],
   "source": [
    "# 필터 시각화\n",
    "model = keras.applications.xception.Xception(\n",
    "    weights=\"imagenet\",\n",
    "    include_top=False)\n",
    "\n",
    "layer_name = ['block1_conv1', 'block1_conv2', 'block2_sepconv1', 'block2_sepconv2' ,'block3_sepconv1','block3_sepconv2' ]\n",
    "for layer_name in layer_name:\n",
    "    layer = model.get_layer(name=layer_name)\n",
    "    feature_extractor = keras.Model(inputs=model.input, outputs=layer.output)\n",
    "\n",
    "\n",
    "    def compute_loss(image, filter_index):\n",
    "        activation = feature_extractor(image)\n",
    "        filter_activation = activation[:, 2:-2, 2:-2, filter_index]\n",
    "        return tf.reduce_mean(filter_activation)\n",
    "    @tf.function\n",
    "    def gradient_ascent_step(image, filter_index, learning_rate):\n",
    "        with tf.GradientTape() as tape:\n",
    "            tape.watch(image)\n",
    "            loss = compute_loss(image, filter_index)\n",
    "        grads = tape.gradient(loss, image)\n",
    "        grads = tf.math.l2_normalize(grads)\n",
    "        image += learning_rate * grads\n",
    "        return image\n",
    "    img_width = 200\n",
    "    img_height = 200\n",
    "\n",
    "    def generate_filter_pattern(filter_index):\n",
    "        iterations = 30\n",
    "        learning_rate = 10.\n",
    "        image = tf.random.uniform(\n",
    "            minval=0.4,\n",
    "            maxval=0.6,\n",
    "            shape=(1, img_width, img_height, 3))\n",
    "        for i in range(iterations):\n",
    "            image = gradient_ascent_step(image, filter_index, learning_rate)\n",
    "        return image[0].numpy()\n",
    "    \n",
    "    def deprocess_image(image):\n",
    "        image -= image.mean()\n",
    "        image /= image.std()\n",
    "        image *= 64\n",
    "        image += 128\n",
    "        image = np.clip(image, 0, 255).astype(\"uint8\")\n",
    "        image = image[25:-25, 25:-25, :]\n",
    "        return image\n",
    "    \n",
    "    keras.utils.save_img(f\"filters_for_layer_{layer_name}.png\", deprocess_image(generate_filter_pattern(filter_index=2)))"
   ]
  },
  {
   "cell_type": "code",
   "execution_count": null,
   "metadata": {},
   "outputs": [],
   "source": []
  }
 ],
 "metadata": {
  "kernelspec": {
   "display_name": "tf",
   "language": "python",
   "name": "python3"
  },
  "language_info": {
   "codemirror_mode": {
    "name": "ipython",
    "version": 3
   },
   "file_extension": ".py",
   "mimetype": "text/x-python",
   "name": "python",
   "nbconvert_exporter": "python",
   "pygments_lexer": "ipython3",
   "version": "3.9.16"
  },
  "orig_nbformat": 4
 },
 "nbformat": 4,
 "nbformat_minor": 2
}
