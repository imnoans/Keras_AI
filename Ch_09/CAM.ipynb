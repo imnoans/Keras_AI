{
 "cells": [
  {
   "cell_type": "code",
   "execution_count": 44,
   "metadata": {},
   "outputs": [],
   "source": [
    "from tensorflow import keras\n",
    "import numpy as np\n",
    "import matplotlib.pyplot as plt\n",
    "from keras import layers\n",
    "import tensorflow as tf\n",
    "import matplotlib.cm as cm"
   ]
  },
  {
   "cell_type": "code",
   "execution_count": 45,
   "metadata": {},
   "outputs": [],
   "source": [
    "# 최상위 밀집 연결 층을 포함\n",
    "model = keras.applications.xception.Xception(weights='imagenet')"
   ]
  },
  {
   "cell_type": "code",
   "execution_count": 46,
   "metadata": {},
   "outputs": [],
   "source": [
    "img_path = keras.utils.get_file(\n",
    "    fname='elephant.jpg',\n",
    "    origin='https://img-datasets.s3.amazonaws.com/elephant.jpg')"
   ]
  },
  {
   "cell_type": "code",
   "execution_count": 47,
   "metadata": {},
   "outputs": [],
   "source": [
    "def get_img_array(img_path, target_size) :\n",
    "    # 이미지를 target_size로 가져옴\n",
    "    # 299 * 299 크기의 PIL(Python Imaging Library) 이미지를 반환\n",
    "    img = keras.utils.load_img(img_path, target_size=target_size)\n",
    "    # 이미지를 (target_size, target_size, 3) 크기의 배열로 반환\n",
    "    array = keras.utils.img_to_array(img)\n",
    "    # 배열을 (1, 299, 299, 3) 크기의 배치로 변환하기 위해 차원을 추가\n",
    "    array = np.expand_dims(array, axis=0)\n",
    "    # 배치를 전처리(채널별 컬러 정규화)함\n",
    "    # 입력 값을 127.5로 나눈 후 1을 빼서 -1~1 사이로 정규화\n",
    "    array = keras.applications.xception.preprocess_input(array)\n",
    "    return array"
   ]
  },
  {
   "cell_type": "code",
   "execution_count": 48,
   "metadata": {},
   "outputs": [],
   "source": [
    "img_array = get_img_array(img_path, target_size=(299, 299))"
   ]
  },
  {
   "cell_type": "code",
   "execution_count": 49,
   "metadata": {},
   "outputs": [
    {
     "data": {
      "text/plain": [
       "array([[[[ 0.54509807,  0.69411767,  0.827451  ],\n",
       "         [ 0.5529412 ,  0.7019608 ,  0.8352941 ],\n",
       "         [ 0.5529412 ,  0.7019608 ,  0.8352941 ],\n",
       "         ...,\n",
       "         [ 0.5058824 ,  0.62352943,  0.77254903],\n",
       "         [ 0.5058824 ,  0.62352943,  0.77254903],\n",
       "         [ 0.5058824 ,  0.62352943,  0.77254903]],\n",
       "\n",
       "        [[ 0.5529412 ,  0.7019608 ,  0.8352941 ],\n",
       "         [ 0.54509807,  0.69411767,  0.827451  ],\n",
       "         [ 0.56078434,  0.70980394,  0.84313726],\n",
       "         ...,\n",
       "         [ 0.5058824 ,  0.62352943,  0.77254903],\n",
       "         [ 0.5137255 ,  0.6313726 ,  0.78039217],\n",
       "         [ 0.5137255 ,  0.6313726 ,  0.78039217]],\n",
       "\n",
       "        [[ 0.5529412 ,  0.7019608 ,  0.8352941 ],\n",
       "         [ 0.56078434,  0.70980394,  0.84313726],\n",
       "         [ 0.56078434,  0.70980394,  0.84313726],\n",
       "         ...,\n",
       "         [ 0.5137255 ,  0.6392157 ,  0.7647059 ],\n",
       "         [ 0.5058824 ,  0.6313726 ,  0.75686276],\n",
       "         [ 0.5137255 ,  0.6392157 ,  0.7647059 ]],\n",
       "\n",
       "        ...,\n",
       "\n",
       "        [[-0.30196077, -0.25490195, -0.5529412 ],\n",
       "         [-0.10588235, -0.06666666, -0.38039213],\n",
       "         [-0.18431371, -0.15294117, -0.42745095],\n",
       "         ...,\n",
       "         [ 0.0196079 ,  0.082353  , -0.30196077],\n",
       "         [-0.20784312, -0.12941176, -0.52156866],\n",
       "         [-0.1607843 , -0.09803921, -0.46666664]],\n",
       "\n",
       "        [[-0.32549018, -0.23921567, -0.5529412 ],\n",
       "         [-0.09803921, -0.00392157, -0.31764704],\n",
       "         [-0.14509803, -0.03529412, -0.3098039 ],\n",
       "         ...,\n",
       "         [-0.00392157,  0.04313731, -0.3333333 ],\n",
       "         [ 0.00392163,  0.09803927, -0.29411763],\n",
       "         [-0.12156862, -0.01176471, -0.3960784 ]],\n",
       "\n",
       "        [[-0.45098037, -0.372549  , -0.6627451 ],\n",
       "         [-0.46666664, -0.372549  , -0.6862745 ],\n",
       "         [ 0.04313731,  0.14509809, -0.19215685],\n",
       "         ...,\n",
       "         [-0.03529412,  0.07450986, -0.32549018],\n",
       "         [ 0.04313731,  0.14509809, -0.27058822],\n",
       "         [-0.0745098 , -0.00392157, -0.35686272]]]], dtype=float32)"
      ]
     },
     "execution_count": 49,
     "metadata": {},
     "output_type": "execute_result"
    }
   ],
   "source": [
    "img_array"
   ]
  },
  {
   "cell_type": "code",
   "execution_count": 50,
   "metadata": {},
   "outputs": [
    {
     "name": "stdout",
     "output_type": "stream",
     "text": [
      "1/1 [==============================] - 0s 406ms/step\n",
      "[('n02504458', 'African_elephant', 0.8697782), ('n01871265', 'tusker', 0.07703389), ('n02504013', 'Indian_elephant', 0.02360104)]\n"
     ]
    }
   ],
   "source": [
    "preds = model.predict(img_array)\n",
    "# 예측 결과에서 top 매개변수에 지정된 개수의 최상위 3개 항목을 클래스 레이블과 함께 반환\n",
    "print(keras.applications.xception.decode_predictions(preds, top=3)[0])"
   ]
  },
  {
   "cell_type": "code",
   "execution_count": 51,
   "metadata": {},
   "outputs": [
    {
     "data": {
      "text/plain": [
       "386"
      ]
     },
     "execution_count": 51,
     "metadata": {},
     "output_type": "execute_result"
    }
   ],
   "source": [
    "# 아프리카 코끼리는 386번 인덱스\n",
    "np.argmax(preds)"
   ]
  },
  {
   "cell_type": "code",
   "execution_count": 52,
   "metadata": {},
   "outputs": [],
   "source": [
    "# 입력 이미지를 마지막 합성곱 층의 활성화에 매핑하는 모델\n",
    "# Xception 모델의 마지막 conv 층의 이름\n",
    "last_conv_layer_name = 'block14_sepconv2_act'\n",
    "# 분류기(밀집 신경망) 층 이름\n",
    "Classifier_layer_names = [\n",
    "    'avg_pool',\n",
    "    'predictions',\n",
    "]\n",
    "# 마지막 conv층을 가져옴\n",
    "last_conv_layer = model.get_layer(last_conv_layer_name)\n",
    "# Xception의 input과 마지막 conv층을 이용하여 새로운 모델을 생성\n",
    "last_conv_layer_model = keras.Model(model.inputs, last_conv_layer.output)"
   ]
  },
  {
   "cell_type": "code",
   "execution_count": 53,
   "metadata": {},
   "outputs": [
    {
     "data": {
      "text/plain": [
       "TensorShape([10, 10, 2048])"
      ]
     },
     "execution_count": 53,
     "metadata": {},
     "output_type": "execute_result"
    }
   ],
   "source": [
    "last_conv_layer.output[0].shape"
   ]
  },
  {
   "cell_type": "code",
   "execution_count": 54,
   "metadata": {},
   "outputs": [],
   "source": [
    "# 마지막 합성곱 층의 활성화를 최종 클래스 예측에 매핑하는 모델\n",
    "classifier_input = keras.Input(shape=last_conv_layer.output.shape[1:])\n",
    "x = classifier_input\n",
    "for layer_name in Classifier_layer_names :\n",
    "    # 최상위 밀집 신경망 층을 위에서 저장한 이름을 이용해 쌓음\n",
    "    x = model.get_layer(layer_name)(x)\n",
    "# x를 output으로 이용하여 모델을 생성\n",
    "classifier_model = keras.Model(classifier_input, x)"
   ]
  },
  {
   "cell_type": "code",
   "execution_count": 55,
   "metadata": {},
   "outputs": [
    {
     "data": {
      "text/plain": [
       "TensorShape([None, 1000])"
      ]
     },
     "execution_count": 55,
     "metadata": {},
     "output_type": "execute_result"
    }
   ],
   "source": [
    "classifier_model.output.shape"
   ]
  },
  {
   "cell_type": "code",
   "execution_count": 56,
   "metadata": {},
   "outputs": [],
   "source": [
    "# 마지막 합성곱 층의 활성화에 대한 최상위 예측 클래스의 그레이디언트를 계산\n",
    "\n",
    "with tf.GradientTape() as tape :\n",
    "    # 마지막 합성곱 층의 활성화를 계산\n",
    "    last_conv_layer_output = last_conv_layer_model(img_array)\n",
    "    # 그레이디언트 테이프에 감시 대상에 추가\n",
    "    tape.watch(last_conv_layer_output)\n",
    "    # 마지막 합성곱 층의 활성화를 최종 클래스 예측에 매핑하는 모델\n",
    "    preds = classifier_model(last_conv_layer_output)\n",
    "    # 최종 예측 클래스를 추출\n",
    "    top_pred_index = tf.argmax(preds[0])\n",
    "    # 활성화 채널을 추출\n",
    "    top_class_channel = preds[:, top_pred_index]\n",
    "\n",
    "# 마지막 합성곱 층의 출력 특성 맵에 대한 최상위 예측 클래스의 그레이디언트를 계산\n",
    "grads = tape.gradient(top_class_channel, last_conv_layer_output)"
   ]
  },
  {
   "cell_type": "code",
   "execution_count": 57,
   "metadata": {},
   "outputs": [],
   "source": [
    "# 그레이디언트 텐서를 평균하고 중요도 가중치를 적용하여 클래스 활성화 히트맵을 만듦\n",
    "\n",
    "# 이 벡터의 각 원소는 어떤 채널에 대한 그레이디언트의 평균 강도\n",
    "# 최상위 예측 클래스에 대한 각 채널의 중요도를 정량화한 것\n",
    "# 0, 1, 2차원을 제거하고 채널만을 남겨서 평균을 계산\n",
    "# (2048,)\n",
    "pooled_grads = tf.reduce_mean(grads, axis=(0, 1, 2)).numpy() \n",
    "# (10, 10, 2048)\n",
    "last_conv_layer_output = last_conv_layer_output.numpy()[0]\n",
    "# 마지막 합성곱 층의 출력에 있는 각 채널에 채널의 중요도를 곱함\n",
    "for i in range(pooled_grads.shape[-1]) :\n",
    "    last_conv_layer_output[:, :, i] *= pooled_grads[i]\n",
    "# 만들어진 특성 맵을 채널별로 평균하면 클래스 활성화 히트맵이 됨\n",
    "heatmap = np.mean(last_conv_layer_output, axis=-1)"
   ]
  },
  {
   "cell_type": "code",
   "execution_count": 58,
   "metadata": {},
   "outputs": [
    {
     "data": {
      "text/plain": [
       "(10, 10, 2048)"
      ]
     },
     "execution_count": 58,
     "metadata": {},
     "output_type": "execute_result"
    }
   ],
   "source": [
    "last_conv_layer_output.shape"
   ]
  },
  {
   "cell_type": "code",
   "execution_count": 59,
   "metadata": {},
   "outputs": [
    {
     "data": {
      "text/plain": [
       "(10, 10)"
      ]
     },
     "execution_count": 59,
     "metadata": {},
     "output_type": "execute_result"
    }
   ],
   "source": [
    "heatmap.shape"
   ]
  },
  {
   "cell_type": "code",
   "execution_count": 60,
   "metadata": {},
   "outputs": [
    {
     "data": {
      "text/plain": [
       "(2048,)"
      ]
     },
     "execution_count": 60,
     "metadata": {},
     "output_type": "execute_result"
    }
   ],
   "source": [
    "pooled_grads.shape"
   ]
  },
  {
   "cell_type": "code",
   "execution_count": 61,
   "metadata": {},
   "outputs": [
    {
     "data": {
      "image/png": "[encoded data removed]",
      "text/plain": [
       "<Figure size 480x480 with 1 Axes>"
      ]
     },
     "metadata": {},
     "output_type": "display_data"
    }
   ],
   "source": [
    "# 시각화를 위해 히트맵을 0과 1사이로 정규화\n",
    "heatmap = np.maximum(heatmap, 0)\n",
    "heatmap /= np.max(heatmap)\n",
    "plt.matshow(heatmap)\n",
    "plt.show()"
   ]
  },
  {
   "cell_type": "code",
   "execution_count": 62,
   "metadata": {},
   "outputs": [
    {
     "name": "stderr",
     "output_type": "stream",
     "text": [
      "C:\\Users\\KSY\\AppData\\Local\\Temp\\ipykernel_21384\\369631780.py:11: MatplotlibDeprecationWarning: The get_cmap function was deprecated in Matplotlib 3.7 and will be removed two minor releases later. Use ``matplotlib.colormaps[name]`` or ``matplotlib.colormaps.get_cmap(obj)`` instead.\n",
      "  jet = cm.get_cmap('jet')\n"
     ]
    }
   ],
   "source": [
    "# 앞에서 얻은 히트맵에 원본 그림을 겹친 이미지를 만듦\n",
    "\n",
    "# 원본 이미지를 로드\n",
    "img = keras.utils.load_img(img_path)\n",
    "# 이미지를 배열로 변경\n",
    "img = keras.utils.img_to_array(img)\n",
    "# 히트맵을 0 ~ 255 범위로 조정\n",
    "heatmap = np.uint8(255 * heatmap)\n",
    "\n",
    "# jet 컬러맵을 사용하여 히트맵의 색을 바꿈\n",
    "jet = cm.get_cmap('jet')\n",
    "jet_colors = jet(np.arange(256))[:, :3]\n",
    "jet_heatmap = jet_colors[heatmap]\n",
    "\n",
    "# 새로운 히트맵을 담을 이미지를 만듦\n",
    "jet_heatmap = keras.utils.array_to_img(jet_heatmap)\n",
    "jet_heatmap = jet_heatmap.resize((img.shape[1], img.shape[0]))\n",
    "jet_heatmap = keras.utils.img_to_array(jet_heatmap)\n",
    "\n",
    "# 히트맵에 40% 투명도를 주고 원본 이미지를 합침\n",
    "superimosed_img = jet_heatmap * 0.4 + img\n",
    "superimosed_img = keras.utils.array_to_img(superimosed_img)\n",
    "\n",
    "# 합친 이미지를 저장\n",
    "save_path = 'elephant_cam.jpg'\n",
    "superimosed_img.save(save_path)"
   ]
  }
 ],
 "metadata": {
  "kernelspec": {
   "display_name": "tf",
   "language": "python",
   "name": "python3"
  },
  "language_info": {
   "codemirror_mode": {
    "name": "ipython",
    "version": 3
   },
   "file_extension": ".py",
   "mimetype": "text/x-python",
   "name": "python",
   "nbconvert_exporter": "python",
   "pygments_lexer": "ipython3",
   "version": "3.9.16"
  },
  "orig_nbformat": 4
 },
 "nbformat": 4,
 "nbformat_minor": 2
}
