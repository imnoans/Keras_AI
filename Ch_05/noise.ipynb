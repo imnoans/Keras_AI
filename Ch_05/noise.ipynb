{
 "cells": [
  {
   "cell_type": "code",
   "execution_count": 1,
   "metadata": {},
   "outputs": [],
   "source": [
    "import tensorflow as tf\n",
    "from tensorflow import keras\n",
    "from keras import layers\n",
    "from keras.datasets import mnist\n",
    "import matplotlib.pyplot as plt\n",
    "import numpy as np"
   ]
  },
  {
   "cell_type": "code",
   "execution_count": 2,
   "metadata": {},
   "outputs": [],
   "source": [
    "(train_images, train_labels), (test_images, test_labels) = mnist.load_data()"
   ]
  },
  {
   "cell_type": "code",
   "execution_count": 34,
   "metadata": {},
   "outputs": [],
   "source": [
    "train_images = train_images.reshape((60000, 28 * 28))\n",
    "train_images = train_images.astype('float32') / 255\n",
    "\n",
    "train_images_with_noise_channels = np.concatenate(\n",
    "    [train_images, np.random.random((len(train_images), 784))], axis=1)\n",
    "\n",
    "train_images_with_zeros_channels = np.concatenate(\n",
    "    [train_images, np.zeros((len(train_images), 784))], axis=1)\n",
    "test_images = test_images.reshape((10000, 28 * 28))\n",
    "test_images = test_images.astype('float32') / 255"
   ]
  },
  {
   "cell_type": "code",
   "execution_count": 29,
   "metadata": {},
   "outputs": [
    {
     "name": "stdout",
     "output_type": "stream",
     "text": [
      "[[0.         0.         0.         ... 0.18624658 0.21175248 0.54299586]\n",
      " [0.         0.         0.         ... 0.72141331 0.56406465 0.31507373]\n",
      " [0.         0.         0.         ... 0.38202324 0.35369736 0.31077661]\n",
      " ...\n",
      " [0.         0.         0.         ... 0.54151593 0.87991833 0.13478373]\n",
      " [0.         0.         0.         ... 0.17056047 0.62787532 0.36183202]\n",
      " [0.         0.         0.         ... 0.66641559 0.80412243 0.07055938]]\n"
     ]
    },
    {
     "data": {
      "text/plain": [
       "array([0.00000000e+00, 0.00000000e+00, 0.00000000e+00, 0.00000000e+00,\n",
       "       0.00000000e+00, 0.00000000e+00, 0.00000000e+00, 0.00000000e+00,\n",
       "       0.00000000e+00, 0.00000000e+00, 0.00000000e+00, 0.00000000e+00,\n",
       "       0.00000000e+00, 0.00000000e+00, 0.00000000e+00, 0.00000000e+00,\n",
       "       0.00000000e+00, 0.00000000e+00, 0.00000000e+00, 0.00000000e+00,\n",
       "       0.00000000e+00, 0.00000000e+00, 0.00000000e+00, 0.00000000e+00,\n",
       "       0.00000000e+00, 0.00000000e+00, 0.00000000e+00, 0.00000000e+00,\n",
       "       0.00000000e+00, 0.00000000e+00, 0.00000000e+00, 0.00000000e+00,\n",
       "       0.00000000e+00, 0.00000000e+00, 0.00000000e+00, 0.00000000e+00,\n",
       "       0.00000000e+00, 0.00000000e+00, 0.00000000e+00, 0.00000000e+00,\n",
       "       0.00000000e+00, 0.00000000e+00, 0.00000000e+00, 0.00000000e+00,\n",
       "       0.00000000e+00, 0.00000000e+00, 0.00000000e+00, 0.00000000e+00,\n",
       "       0.00000000e+00, 0.00000000e+00, 0.00000000e+00, 0.00000000e+00,\n",
       "       0.00000000e+00, 0.00000000e+00, 0.00000000e+00, 0.00000000e+00,\n",
       "       0.00000000e+00, 0.00000000e+00, 0.00000000e+00, 0.00000000e+00,\n",
       "       0.00000000e+00, 0.00000000e+00, 0.00000000e+00, 0.00000000e+00,\n",
       "       0.00000000e+00, 0.00000000e+00, 0.00000000e+00, 0.00000000e+00,\n",
       "       0.00000000e+00, 0.00000000e+00, 0.00000000e+00, 0.00000000e+00,\n",
       "       0.00000000e+00, 0.00000000e+00, 0.00000000e+00, 0.00000000e+00,\n",
       "       0.00000000e+00, 0.00000000e+00, 0.00000000e+00, 0.00000000e+00,\n",
       "       0.00000000e+00, 0.00000000e+00, 0.00000000e+00, 0.00000000e+00,\n",
       "       0.00000000e+00, 0.00000000e+00, 0.00000000e+00, 0.00000000e+00,\n",
       "       0.00000000e+00, 0.00000000e+00, 0.00000000e+00, 0.00000000e+00,\n",
       "       0.00000000e+00, 0.00000000e+00, 0.00000000e+00, 0.00000000e+00,\n",
       "       0.00000000e+00, 0.00000000e+00, 0.00000000e+00, 0.00000000e+00,\n",
       "       0.00000000e+00, 0.00000000e+00, 0.00000000e+00, 0.00000000e+00,\n",
       "       0.00000000e+00, 0.00000000e+00, 0.00000000e+00, 0.00000000e+00,\n",
       "       0.00000000e+00, 0.00000000e+00, 0.00000000e+00, 0.00000000e+00,\n",
       "       0.00000000e+00, 0.00000000e+00, 0.00000000e+00, 0.00000000e+00,\n",
       "       0.00000000e+00, 0.00000000e+00, 0.00000000e+00, 0.00000000e+00,\n",
       "       0.00000000e+00, 0.00000000e+00, 0.00000000e+00, 0.00000000e+00,\n",
       "       0.00000000e+00, 0.00000000e+00, 0.00000000e+00, 0.00000000e+00,\n",
       "       0.00000000e+00, 0.00000000e+00, 0.00000000e+00, 0.00000000e+00,\n",
       "       0.00000000e+00, 0.00000000e+00, 0.00000000e+00, 0.00000000e+00,\n",
       "       0.00000000e+00, 0.00000000e+00, 0.00000000e+00, 0.00000000e+00,\n",
       "       0.00000000e+00, 0.00000000e+00, 0.00000000e+00, 0.00000000e+00,\n",
       "       0.00000000e+00, 0.00000000e+00, 0.00000000e+00, 0.00000000e+00,\n",
       "       0.00000000e+00, 0.00000000e+00, 0.00000000e+00, 0.00000000e+00,\n",
       "       4.61361014e-05, 2.76816631e-04, 2.76816631e-04, 2.76816631e-04,\n",
       "       1.93771627e-03, 2.09150347e-03, 2.69127265e-03, 3.99846205e-04,\n",
       "       2.55286437e-03, 3.92156886e-03, 3.79853905e-03, 1.95309496e-03,\n",
       "       0.00000000e+00, 0.00000000e+00, 0.00000000e+00, 0.00000000e+00,\n",
       "       0.00000000e+00, 0.00000000e+00, 0.00000000e+00, 0.00000000e+00,\n",
       "       0.00000000e+00, 0.00000000e+00, 0.00000000e+00, 0.00000000e+00,\n",
       "       4.61361022e-04, 5.53633261e-04, 1.44559785e-03, 2.36832001e-03,\n",
       "       2.61437916e-03, 3.89081123e-03, 3.89081123e-03, 3.89081123e-03,\n",
       "       3.89081123e-03, 3.89081123e-03, 3.46020772e-03, 2.64513656e-03,\n",
       "       3.89081123e-03, 3.72164557e-03, 2.99884658e-03, 9.84236947e-04,\n",
       "       0.00000000e+00, 0.00000000e+00, 0.00000000e+00, 0.00000000e+00,\n",
       "       0.00000000e+00, 0.00000000e+00, 0.00000000e+00, 0.00000000e+00])"
      ]
     },
     "execution_count": 29,
     "metadata": {},
     "output_type": "execute_result"
    }
   ],
   "source": [
    "print(train_images_with_noise_channels)\n",
    "train_images_with_noise_channels[0, :200]"
   ]
  },
  {
   "cell_type": "code",
   "execution_count": 30,
   "metadata": {},
   "outputs": [
    {
     "name": "stdout",
     "output_type": "stream",
     "text": [
      "[[0. 0. 0. ... 0. 0. 0.]\n",
      " [0. 0. 0. ... 0. 0. 0.]\n",
      " [0. 0. 0. ... 0. 0. 0.]\n",
      " ...\n",
      " [0. 0. 0. ... 0. 0. 0.]\n",
      " [0. 0. 0. ... 0. 0. 0.]\n",
      " [0. 0. 0. ... 0. 0. 0.]]\n"
     ]
    },
    {
     "data": {
      "text/plain": [
       "array([0.00000000e+00, 0.00000000e+00, 0.00000000e+00, 0.00000000e+00,\n",
       "       0.00000000e+00, 0.00000000e+00, 0.00000000e+00, 0.00000000e+00,\n",
       "       0.00000000e+00, 0.00000000e+00, 0.00000000e+00, 0.00000000e+00,\n",
       "       0.00000000e+00, 0.00000000e+00, 0.00000000e+00, 0.00000000e+00,\n",
       "       0.00000000e+00, 0.00000000e+00, 0.00000000e+00, 0.00000000e+00,\n",
       "       0.00000000e+00, 0.00000000e+00, 0.00000000e+00, 0.00000000e+00,\n",
       "       0.00000000e+00, 0.00000000e+00, 0.00000000e+00, 0.00000000e+00,\n",
       "       0.00000000e+00, 0.00000000e+00, 0.00000000e+00, 0.00000000e+00,\n",
       "       0.00000000e+00, 0.00000000e+00, 0.00000000e+00, 0.00000000e+00,\n",
       "       0.00000000e+00, 0.00000000e+00, 0.00000000e+00, 0.00000000e+00,\n",
       "       0.00000000e+00, 0.00000000e+00, 0.00000000e+00, 0.00000000e+00,\n",
       "       0.00000000e+00, 0.00000000e+00, 0.00000000e+00, 0.00000000e+00,\n",
       "       0.00000000e+00, 0.00000000e+00, 0.00000000e+00, 0.00000000e+00,\n",
       "       0.00000000e+00, 0.00000000e+00, 0.00000000e+00, 0.00000000e+00,\n",
       "       0.00000000e+00, 0.00000000e+00, 0.00000000e+00, 0.00000000e+00,\n",
       "       0.00000000e+00, 0.00000000e+00, 0.00000000e+00, 0.00000000e+00,\n",
       "       0.00000000e+00, 0.00000000e+00, 0.00000000e+00, 0.00000000e+00,\n",
       "       0.00000000e+00, 0.00000000e+00, 0.00000000e+00, 0.00000000e+00,\n",
       "       0.00000000e+00, 0.00000000e+00, 0.00000000e+00, 0.00000000e+00,\n",
       "       0.00000000e+00, 0.00000000e+00, 0.00000000e+00, 0.00000000e+00,\n",
       "       0.00000000e+00, 0.00000000e+00, 0.00000000e+00, 0.00000000e+00,\n",
       "       0.00000000e+00, 0.00000000e+00, 0.00000000e+00, 0.00000000e+00,\n",
       "       0.00000000e+00, 0.00000000e+00, 0.00000000e+00, 0.00000000e+00,\n",
       "       0.00000000e+00, 0.00000000e+00, 0.00000000e+00, 0.00000000e+00,\n",
       "       0.00000000e+00, 0.00000000e+00, 0.00000000e+00, 0.00000000e+00,\n",
       "       0.00000000e+00, 0.00000000e+00, 0.00000000e+00, 0.00000000e+00,\n",
       "       0.00000000e+00, 0.00000000e+00, 0.00000000e+00, 0.00000000e+00,\n",
       "       0.00000000e+00, 0.00000000e+00, 0.00000000e+00, 0.00000000e+00,\n",
       "       0.00000000e+00, 0.00000000e+00, 0.00000000e+00, 0.00000000e+00,\n",
       "       0.00000000e+00, 0.00000000e+00, 0.00000000e+00, 0.00000000e+00,\n",
       "       0.00000000e+00, 0.00000000e+00, 0.00000000e+00, 0.00000000e+00,\n",
       "       0.00000000e+00, 0.00000000e+00, 0.00000000e+00, 0.00000000e+00,\n",
       "       0.00000000e+00, 0.00000000e+00, 0.00000000e+00, 0.00000000e+00,\n",
       "       0.00000000e+00, 0.00000000e+00, 0.00000000e+00, 0.00000000e+00,\n",
       "       0.00000000e+00, 0.00000000e+00, 0.00000000e+00, 0.00000000e+00,\n",
       "       0.00000000e+00, 0.00000000e+00, 0.00000000e+00, 0.00000000e+00,\n",
       "       0.00000000e+00, 0.00000000e+00, 0.00000000e+00, 0.00000000e+00,\n",
       "       0.00000000e+00, 0.00000000e+00, 0.00000000e+00, 0.00000000e+00,\n",
       "       4.61361014e-05, 2.76816631e-04, 2.76816631e-04, 2.76816631e-04,\n",
       "       1.93771627e-03, 2.09150347e-03, 2.69127265e-03, 3.99846205e-04,\n",
       "       2.55286437e-03, 3.92156886e-03, 3.79853905e-03, 1.95309496e-03,\n",
       "       0.00000000e+00, 0.00000000e+00, 0.00000000e+00, 0.00000000e+00,\n",
       "       0.00000000e+00, 0.00000000e+00, 0.00000000e+00, 0.00000000e+00,\n",
       "       0.00000000e+00, 0.00000000e+00, 0.00000000e+00, 0.00000000e+00,\n",
       "       4.61361022e-04, 5.53633261e-04, 1.44559785e-03, 2.36832001e-03,\n",
       "       2.61437916e-03, 3.89081123e-03, 3.89081123e-03, 3.89081123e-03,\n",
       "       3.89081123e-03, 3.89081123e-03, 3.46020772e-03, 2.64513656e-03,\n",
       "       3.89081123e-03, 3.72164557e-03, 2.99884658e-03, 9.84236947e-04,\n",
       "       0.00000000e+00, 0.00000000e+00, 0.00000000e+00, 0.00000000e+00,\n",
       "       0.00000000e+00, 0.00000000e+00, 0.00000000e+00, 0.00000000e+00])"
      ]
     },
     "execution_count": 30,
     "metadata": {},
     "output_type": "execute_result"
    }
   ],
   "source": [
    "print(train_images_with_zeros_channels)\n",
    "train_images_with_zeros_channels[0, :200]"
   ]
  },
  {
   "cell_type": "code",
   "execution_count": 35,
   "metadata": {},
   "outputs": [],
   "source": [
    "def get_model() :\n",
    "    model = keras.Sequential([\n",
    "        layers.Dense(512, activation='relu'),\n",
    "        layers.Dense(10, activation='softmax')\n",
    "    ])\n",
    "    \n",
    "    model.compile(optimizer='rmsprop',\n",
    "                  loss='sparse_categorical_crossentropy',\n",
    "                  metrics=['accuracy'])\n",
    "    \n",
    "    return model"
   ]
  },
  {
   "cell_type": "code",
   "execution_count": 36,
   "metadata": {},
   "outputs": [
    {
     "name": "stdout",
     "output_type": "stream",
     "text": [
      "Epoch 1/10\n",
      "375/375 [==============================] - 8s 18ms/step - loss: 2.3574 - accuracy: 0.1058 - val_loss: 2.3079 - val_accuracy: 0.1048\n",
      "Epoch 2/10\n",
      "375/375 [==============================] - 6s 17ms/step - loss: 2.3026 - accuracy: 0.1105 - val_loss: 2.3025 - val_accuracy: 0.1060\n",
      "Epoch 3/10\n",
      "375/375 [==============================] - 7s 19ms/step - loss: 2.3016 - accuracy: 0.1129 - val_loss: 2.3020 - val_accuracy: 0.1060\n",
      "Epoch 4/10\n",
      "375/375 [==============================] - 7s 19ms/step - loss: 2.3007 - accuracy: 0.1138 - val_loss: 2.3052 - val_accuracy: 0.1060\n",
      "Epoch 5/10\n",
      "375/375 [==============================] - 9s 24ms/step - loss: 2.2999 - accuracy: 0.1153 - val_loss: 2.3044 - val_accuracy: 0.1063\n",
      "Epoch 6/10\n",
      "375/375 [==============================] - 8s 21ms/step - loss: 2.2989 - accuracy: 0.1154 - val_loss: 2.3043 - val_accuracy: 0.1067\n",
      "Epoch 7/10\n",
      "375/375 [==============================] - 8s 20ms/step - loss: 2.2978 - accuracy: 0.1175 - val_loss: 2.3030 - val_accuracy: 0.1029\n",
      "Epoch 8/10\n",
      "375/375 [==============================] - 7s 19ms/step - loss: 2.2966 - accuracy: 0.1198 - val_loss: 2.3044 - val_accuracy: 0.1009\n",
      "Epoch 9/10\n",
      "375/375 [==============================] - 7s 18ms/step - loss: 2.2954 - accuracy: 0.1198 - val_loss: 2.3076 - val_accuracy: 0.1044\n",
      "Epoch 10/10\n",
      "375/375 [==============================] - 7s 19ms/step - loss: 2.2941 - accuracy: 0.1217 - val_loss: 2.3057 - val_accuracy: 0.1037\n"
     ]
    }
   ],
   "source": [
    "model = get_model()\n",
    "\n",
    "history_noise = model.fit(train_images_with_noise_channels, train_labels,\n",
    "                          epochs=10,\n",
    "                          batch_size=128,\n",
    "                          validation_split=0.2)\n"
   ]
  },
  {
   "cell_type": "code",
   "execution_count": 23,
   "metadata": {},
   "outputs": [
    {
     "name": "stdout",
     "output_type": "stream",
     "text": [
      "Epoch 1/10\n",
      "375/375 [==============================] - 7s 18ms/step - loss: 1.6673 - accuracy: 0.6193 - val_loss: 0.9893 - val_accuracy: 0.8043\n",
      "Epoch 2/10\n",
      "375/375 [==============================] - 7s 18ms/step - loss: 0.7382 - accuracy: 0.8221 - val_loss: 0.5369 - val_accuracy: 0.8690\n",
      "Epoch 3/10\n",
      "375/375 [==============================] - 8s 20ms/step - loss: 0.4890 - accuracy: 0.8719 - val_loss: 0.4049 - val_accuracy: 0.8933\n",
      "Epoch 4/10\n",
      "375/375 [==============================] - 7s 19ms/step - loss: 0.4022 - accuracy: 0.8901 - val_loss: 0.3534 - val_accuracy: 0.9023\n",
      "Epoch 5/10\n",
      "375/375 [==============================] - 7s 19ms/step - loss: 0.3606 - accuracy: 0.8989 - val_loss: 0.3239 - val_accuracy: 0.9093\n",
      "Epoch 6/10\n",
      "375/375 [==============================] - 7s 19ms/step - loss: 0.3355 - accuracy: 0.9047 - val_loss: 0.3056 - val_accuracy: 0.9120\n",
      "Epoch 7/10\n",
      "375/375 [==============================] - 7s 19ms/step - loss: 0.3183 - accuracy: 0.9084 - val_loss: 0.2919 - val_accuracy: 0.9172\n",
      "Epoch 8/10\n",
      "375/375 [==============================] - 7s 20ms/step - loss: 0.3052 - accuracy: 0.9120 - val_loss: 0.2814 - val_accuracy: 0.9194\n",
      "Epoch 9/10\n",
      "375/375 [==============================] - 7s 19ms/step - loss: 0.2937 - accuracy: 0.9149 - val_loss: 0.2741 - val_accuracy: 0.9224\n",
      "Epoch 10/10\n",
      "375/375 [==============================] - 7s 19ms/step - loss: 0.2836 - accuracy: 0.9182 - val_loss: 0.2655 - val_accuracy: 0.9228\n"
     ]
    }
   ],
   "source": [
    "model = get_model()\n",
    "\n",
    "history_zeros = model.fit(train_images_with_zeros_channels, train_labels,\n",
    "                          epochs=10,\n",
    "                          batch_size=128,\n",
    "                          validation_split=0.2)"
   ]
  },
  {
   "cell_type": "code",
   "execution_count": 37,
   "metadata": {},
   "outputs": [
    {
     "data": {
      "image/png": "[encoded data removed]",
      "text/plain": [
       "<Figure size 640x480 with 1 Axes>"
      ]
     },
     "metadata": {},
     "output_type": "display_data"
    }
   ],
   "source": [
    "val_acc_noise = history_noise.history['val_accuracy']\n",
    "val_acc_zeros = history_zeros.history['val_accuracy']\n",
    "\n",
    "epochs = range(1, 11)\n",
    "plt.plot(epochs, val_acc_noise, \"b-\", label=\"Val acc with noise\")\n",
    "plt.plot(epochs, val_acc_zeros, \"b--\", label='val acc with zeros')\n",
    "plt.title('noise and zeros')\n",
    "plt.xlabel('epochs')\n",
    "plt.ylabel('accuracy')\n",
    "plt.legend()\n",
    "plt.show()"
   ]
  }
 ],
 "metadata": {
  "kernelspec": {
   "display_name": "keras",
   "language": "python",
   "name": "python3"
  },
  "language_info": {
   "codemirror_mode": {
    "name": "ipython",
    "version": 3
   },
   "file_extension": ".py",
   "mimetype": "text/x-python",
   "name": "python",
   "nbconvert_exporter": "python",
   "pygments_lexer": "ipython3",
   "version": "3.7.16"
  },
  "orig_nbformat": 4
 },
 "nbformat": 4,
 "nbformat_minor": 2
}
