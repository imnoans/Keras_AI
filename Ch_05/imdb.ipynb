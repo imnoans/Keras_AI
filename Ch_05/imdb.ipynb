{
 "cells": [
  {
   "cell_type": "code",
   "execution_count": 1,
   "metadata": {},
   "outputs": [],
   "source": [
    "from tensorflow.keras.datasets import imdb\n",
    "import numpy as np\n",
    "from tensorflow import keras\n",
    "from tensorflow.keras import layers\n",
    "import matplotlib.pyplot as plt"
   ]
  },
  {
   "cell_type": "code",
   "execution_count": 2,
   "metadata": {},
   "outputs": [],
   "source": [
    "(train_data, train_labels), (test_data, test_labels) = imdb.load_data(\n",
    "    num_words=10000)\n",
    "# imdb의 데이터를 불러와 훈련에 사용할 train과 훈련 후 모델 검증에 사용할 train으로 나누어 저장한다\n",
    "# 가장 많이 사용하는 단어 10000개만 사용"
   ]
  },
  {
   "cell_type": "code",
   "execution_count": 3,
   "metadata": {},
   "outputs": [],
   "source": [
    "def vectorize_sequences(sequences, dimension = 10000) :\n",
    "    results = np.zeros((len(sequences), dimension)) # 크기가 (len(sequences), dimension)이고 모든 원소가 0인 행렬 생성\n",
    "    for i, sequence in enumerate(sequences) :\n",
    "        for j in sequence:\n",
    "            results[i, j] = 1. # i리뷰에 존재하는 단어의 index j의 값을 1로 변경한다\n",
    "    return results"
   ]
  },
  {
   "cell_type": "code",
   "execution_count": 4,
   "metadata": {},
   "outputs": [],
   "source": [
    "x_train = vectorize_sequences(train_data) \n",
    "# 훈련 데이터를 각각의 리뷰마다 같은 크기를 가지는 벡터로 변경한다"
   ]
  },
  {
   "cell_type": "code",
   "execution_count": 5,
   "metadata": {},
   "outputs": [],
   "source": [
    "y_train = np.asarray(train_labels).astype(\"float32\")"
   ]
  },
  {
   "cell_type": "code",
   "execution_count": 7,
   "metadata": {},
   "outputs": [
    {
     "name": "stdout",
     "output_type": "stream",
     "text": [
      "Epoch 1/20\n",
      "30/30 [==============================] - 9s 241ms/step - loss: 0.5288 - accuracy: 0.7908 - val_loss: 0.4030 - val_accuracy: 0.8570\n",
      "Epoch 2/20\n",
      "30/30 [==============================] - 1s 28ms/step - loss: 0.3140 - accuracy: 0.8949 - val_loss: 0.3167 - val_accuracy: 0.8802\n",
      "Epoch 3/20\n",
      "30/30 [==============================] - 1s 35ms/step - loss: 0.2277 - accuracy: 0.9241 - val_loss: 0.2788 - val_accuracy: 0.8913\n",
      "Epoch 4/20\n",
      "30/30 [==============================] - 1s 32ms/step - loss: 0.1786 - accuracy: 0.9425 - val_loss: 0.2926 - val_accuracy: 0.8804\n",
      "Epoch 5/20\n",
      "30/30 [==============================] - 1s 33ms/step - loss: 0.1475 - accuracy: 0.9541 - val_loss: 0.2947 - val_accuracy: 0.8816\n",
      "Epoch 6/20\n",
      "30/30 [==============================] - 1s 36ms/step - loss: 0.1211 - accuracy: 0.9634 - val_loss: 0.3035 - val_accuracy: 0.8804\n",
      "Epoch 7/20\n",
      "30/30 [==============================] - 1s 47ms/step - loss: 0.1032 - accuracy: 0.9689 - val_loss: 0.3160 - val_accuracy: 0.8802\n",
      "Epoch 8/20\n",
      "30/30 [==============================] - 1s 39ms/step - loss: 0.0857 - accuracy: 0.9751 - val_loss: 0.3539 - val_accuracy: 0.8798\n",
      "Epoch 9/20\n",
      "30/30 [==============================] - 2s 65ms/step - loss: 0.0689 - accuracy: 0.9816 - val_loss: 0.3495 - val_accuracy: 0.8812\n",
      "Epoch 10/20\n",
      "30/30 [==============================] - 1s 33ms/step - loss: 0.0584 - accuracy: 0.9855 - val_loss: 0.3916 - val_accuracy: 0.8757\n",
      "Epoch 11/20\n",
      "30/30 [==============================] - 1s 31ms/step - loss: 0.0497 - accuracy: 0.9876 - val_loss: 0.4025 - val_accuracy: 0.8773\n",
      "Epoch 12/20\n",
      "30/30 [==============================] - 1s 31ms/step - loss: 0.0362 - accuracy: 0.9917 - val_loss: 0.4292 - val_accuracy: 0.8750\n",
      "Epoch 13/20\n",
      "30/30 [==============================] - 1s 25ms/step - loss: 0.0319 - accuracy: 0.9935 - val_loss: 0.4767 - val_accuracy: 0.8716\n",
      "Epoch 14/20\n",
      "30/30 [==============================] - 1s 32ms/step - loss: 0.0259 - accuracy: 0.9953 - val_loss: 0.4935 - val_accuracy: 0.8713\n",
      "Epoch 15/20\n",
      "30/30 [==============================] - 1s 32ms/step - loss: 0.0190 - accuracy: 0.9967 - val_loss: 0.5332 - val_accuracy: 0.8671\n",
      "Epoch 16/20\n",
      "30/30 [==============================] - 1s 34ms/step - loss: 0.0151 - accuracy: 0.9978 - val_loss: 0.6141 - val_accuracy: 0.8625\n",
      "Epoch 17/20\n",
      "30/30 [==============================] - 1s 30ms/step - loss: 0.0097 - accuracy: 0.9991 - val_loss: 0.7225 - val_accuracy: 0.8526\n",
      "Epoch 18/20\n",
      "30/30 [==============================] - 1s 29ms/step - loss: 0.0097 - accuracy: 0.9988 - val_loss: 0.6534 - val_accuracy: 0.8619\n",
      "Epoch 19/20\n",
      "30/30 [==============================] - 1s 32ms/step - loss: 0.0058 - accuracy: 0.9995 - val_loss: 0.6661 - val_accuracy: 0.8673\n",
      "Epoch 20/20\n",
      "30/30 [==============================] - 1s 28ms/step - loss: 0.0069 - accuracy: 0.9988 - val_loss: 0.7082 - val_accuracy: 0.8662\n"
     ]
    }
   ],
   "source": [
    "model = keras.Sequential([\n",
    "    layers.Dense(16, activation=\"relu\"),\n",
    "    layers.Dense(16, activation=\"relu\"),\n",
    "    layers.Dense(1, activation=\"sigmoid\")\n",
    "])\n",
    "\n",
    "# 16개의 유닛을 가진 2개의 중간층\n",
    "# 현재 리뷰의 감정을 스칼라 값의 예측으로 출력하는 세 번째 층\n",
    "# 마지막 층은 이진 분류 문제의 확률을 출력하기 위해 sigmoid를 사용\n",
    "\n",
    "model.compile(optimizer=\"rmsprop\",\n",
    "              loss=\"binary_crossentropy\",\n",
    "              metrics=[\"accuracy\"])\n",
    "\n",
    "# 이진 분류 문제에서 확률을 출력할 때는 binary_crossentropy가 최선의 선택\n",
    "# 옵티마이저는 rmsprop을 사용, 대부분의 문제에서 기본으로 사용\n",
    "# 모니터링 지표로는 정확도를 사용 \n",
    "\n",
    "history_original = model.fit(x_train, y_train,\n",
    "                             epochs=20, batch_size=512, validation_split=0.4)"
   ]
  },
  {
   "cell_type": "code",
   "execution_count": 8,
   "metadata": {},
   "outputs": [
    {
     "name": "stdout",
     "output_type": "stream",
     "text": [
      "Epoch 1/20\n",
      "30/30 [==============================] - 5s 133ms/step - loss: 0.6172 - accuracy: 0.6876 - val_loss: 0.5580 - val_accuracy: 0.8296\n",
      "Epoch 2/20\n",
      "30/30 [==============================] - 1s 35ms/step - loss: 0.5102 - accuracy: 0.8145 - val_loss: 0.5113 - val_accuracy: 0.8040\n",
      "Epoch 3/20\n",
      "30/30 [==============================] - 1s 31ms/step - loss: 0.4624 - accuracy: 0.8710 - val_loss: 0.4875 - val_accuracy: 0.8613\n",
      "Epoch 4/20\n",
      "30/30 [==============================] - 1s 31ms/step - loss: 0.4302 - accuracy: 0.9003 - val_loss: 0.4789 - val_accuracy: 0.8600\n",
      "Epoch 5/20\n",
      "30/30 [==============================] - 1s 32ms/step - loss: 0.4059 - accuracy: 0.9199 - val_loss: 0.4737 - val_accuracy: 0.8647\n",
      "Epoch 6/20\n",
      "30/30 [==============================] - 1s 30ms/step - loss: 0.3858 - accuracy: 0.9331 - val_loss: 0.4781 - val_accuracy: 0.8598\n",
      "Epoch 7/20\n",
      "30/30 [==============================] - 1s 33ms/step - loss: 0.3687 - accuracy: 0.9427 - val_loss: 0.4754 - val_accuracy: 0.8629\n",
      "Epoch 8/20\n",
      "30/30 [==============================] - 1s 34ms/step - loss: 0.3536 - accuracy: 0.9522 - val_loss: 0.4774 - val_accuracy: 0.8641\n",
      "Epoch 9/20\n",
      "30/30 [==============================] - 1s 29ms/step - loss: 0.3393 - accuracy: 0.9594 - val_loss: 0.4731 - val_accuracy: 0.8707\n",
      "Epoch 10/20\n",
      "30/30 [==============================] - 1s 27ms/step - loss: 0.3260 - accuracy: 0.9661 - val_loss: 0.4719 - val_accuracy: 0.8730\n",
      "Epoch 11/20\n",
      "30/30 [==============================] - 1s 32ms/step - loss: 0.3158 - accuracy: 0.9701 - val_loss: 0.4975 - val_accuracy: 0.8634\n",
      "Epoch 12/20\n",
      "30/30 [==============================] - 1s 33ms/step - loss: 0.3039 - accuracy: 0.9735 - val_loss: 0.4821 - val_accuracy: 0.8718\n",
      "Epoch 13/20\n",
      "30/30 [==============================] - 1s 30ms/step - loss: 0.2946 - accuracy: 0.9770 - val_loss: 0.5191 - val_accuracy: 0.8614\n",
      "Epoch 14/20\n",
      "30/30 [==============================] - 1s 31ms/step - loss: 0.2854 - accuracy: 0.9794 - val_loss: 0.5295 - val_accuracy: 0.8606\n",
      "Epoch 15/20\n",
      "30/30 [==============================] - 1s 29ms/step - loss: 0.2766 - accuracy: 0.9817 - val_loss: 0.5037 - val_accuracy: 0.8704\n",
      "Epoch 16/20\n",
      "30/30 [==============================] - 1s 35ms/step - loss: 0.2689 - accuracy: 0.9829 - val_loss: 0.6117 - val_accuracy: 0.8489\n",
      "Epoch 17/20\n",
      "30/30 [==============================] - 1s 30ms/step - loss: 0.2605 - accuracy: 0.9849 - val_loss: 0.5752 - val_accuracy: 0.8583\n",
      "Epoch 18/20\n",
      "30/30 [==============================] - 1s 30ms/step - loss: 0.2541 - accuracy: 0.9857 - val_loss: 0.6033 - val_accuracy: 0.8569\n",
      "Epoch 19/20\n",
      "30/30 [==============================] - 1s 36ms/step - loss: 0.2468 - accuracy: 0.9863 - val_loss: 0.5768 - val_accuracy: 0.8621\n",
      "Epoch 20/20\n",
      "30/30 [==============================] - 1s 28ms/step - loss: 0.2401 - accuracy: 0.9871 - val_loss: 0.6299 - val_accuracy: 0.8567\n"
     ]
    }
   ],
   "source": [
    "model = keras.Sequential([\n",
    "    layers.Dense(4, activation=\"relu\"),\n",
    "    layers.Dense(4, activation=\"relu\"),\n",
    "    layers.Dense(1, activation=\"sigmoid\")\n",
    "])\n",
    "\n",
    "# 16개의 유닛을 가진 2개의 중간층\n",
    "# 현재 리뷰의 감정을 스칼라 값의 예측으로 출력하는 세 번째 층\n",
    "# 마지막 층은 이진 분류 문제의 확률을 출력하기 위해 sigmoid를 사용\n",
    "\n",
    "model.compile(optimizer=\"rmsprop\",\n",
    "              loss=\"binary_crossentropy\",\n",
    "              metrics=[\"accuracy\"])\n",
    "\n",
    "# 이진 분류 문제에서 확률을 출력할 때는 binary_crossentropy가 최선의 선택\n",
    "# 옵티마이저는 rmsprop을 사용, 대부분의 문제에서 기본으로 사용\n",
    "# 모니터링 지표로는 정확도를 사용 \n",
    "\n",
    "history_smaller_model = model.fit(x_train, y_train,\n",
    "                             epochs=20, batch_size=512, validation_split=0.4)"
   ]
  },
  {
   "cell_type": "code",
   "execution_count": 14,
   "metadata": {},
   "outputs": [
    {
     "data": {
      "image/png": "[encoded data removed]",
      "text/plain": [
       "<Figure size 640x480 with 1 Axes>"
      ]
     },
     "metadata": {},
     "output_type": "display_data"
    }
   ],
   "source": [
    "history_origin = history_original.history\n",
    "origin_val_loss = history_origin[\"val_loss\"]\n",
    "history_smaller = history_smaller_model.history\n",
    "smaller_val_loss = history_smaller['val_loss']\n",
    "epochs = range(1, len(origin_val_loss) + 1)\n",
    "plt.plot(epochs, origin_val_loss, \"b--\", label=\"origin\")\n",
    "plt.plot(epochs, smaller_val_loss, \"b-\", label=\"smaller\")\n",
    "plt.title(\"origin and smaller\")\n",
    "plt.xlabel(\"Epochs\")\n",
    "plt.ylabel(\"Loss\")\n",
    "plt.legend()\n",
    "plt.show()\n",
    "# history에 저장된 데이터를 matplotlib을 이용하여 시각화한다.\n",
    "# 그래프의 y축은 loss"
   ]
  }
 ],
 "metadata": {
  "kernelspec": {
   "display_name": "keras",
   "language": "python",
   "name": "python3"
  },
  "language_info": {
   "codemirror_mode": {
    "name": "ipython",
    "version": 3
   },
   "file_extension": ".py",
   "mimetype": "text/x-python",
   "name": "python",
   "nbconvert_exporter": "python",
   "pygments_lexer": "ipython3",
   "version": "3.7.16"
  },
  "orig_nbformat": 4
 },
 "nbformat": 4,
 "nbformat_minor": 2
}
