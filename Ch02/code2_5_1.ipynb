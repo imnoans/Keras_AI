{
 "cells": [
  {
   "cell_type": "code",
   "execution_count": 1,
   "metadata": {},
   "outputs": [],
   "source": [
    "import tensorflow as tf\n",
    "import math\n",
    "from tensorflow.keras import optimizers\n",
    "import numpy as np"
   ]
  },
  {
   "cell_type": "code",
   "execution_count": 3,
   "metadata": {},
   "outputs": [],
   "source": [
    "class NaiveDense :\n",
    "    def __init__(self, input_size, output_size, activation):\n",
    "        self.activation = activation\n",
    "        \n",
    "        w_shape = (input_size, output_size) \n",
    "        w_initial_value = tf.random.uniform(w_shape, minval = 0, maxval=1e-1) # 랜덤한 값을 가진 가중치의 행렬 (input_size, output_size) W를 만듬\n",
    "        self.W = tf.Variable(w_initial_value)\n",
    "        \n",
    "        b_shape = (output_size)\n",
    "        b_initial_value = tf.zeros(b_shape) # 0으로 초기화된 (ouput_size,) 크기의 벡터 b를 생성\n",
    "        self.b = tf.Variable(b_initial_value)\n",
    "\n",
    "    def __call__(self, inputs) :\n",
    "        return self.activation(tf.matmul(inputs, self.W) + self.b)\n",
    "    \n",
    "    @property\n",
    "    def weights(self) : # 층의 가중치를 추출하기 위한 메서드\n",
    "        return [self.W, self.b]"
   ]
  },
  {
   "cell_type": "code",
   "execution_count": 5,
   "metadata": {},
   "outputs": [],
   "source": [
    "class NaiveSequential :\n",
    "    def __init__(self, layers) :\n",
    "        self.layers = layers\n",
    "    \n",
    "    def __call__(self, inputs) :\n",
    "        x = inputs\n",
    "        for layer in self.layers :\n",
    "            x = layer(x)\n",
    "        return x\n",
    "    \n",
    "    @property\n",
    "    def weights(self) :\n",
    "        weights = []\n",
    "        for layer in self.layers :\n",
    "            weights += layer.weights\n",
    "        return weights "
   ]
  },
  {
   "cell_type": "code",
   "execution_count": 15,
   "metadata": {},
   "outputs": [],
   "source": [
    "model = NaiveSequential([\n",
    "    NaiveDense(input_size=28 * 28, output_size=512, activation=tf.nn.relu),\n",
    "    NaiveDense(input_size=512, output_size=10, activation=tf.nn.softmax)\n",
    "])\n",
    "\n",
    "assert len(model.weights) == 4"
   ]
  },
  {
   "cell_type": "code",
   "execution_count": 20,
   "metadata": {},
   "outputs": [],
   "source": [
    "class BatchGenerator :\n",
    "    def __init__(self, images, labels, batch_size=128) :\n",
    "        assert len(images) == len(labels)\n",
    "        self.index = 0\n",
    "        self.images = images\n",
    "        self.labels = labels\n",
    "        self.batch_size = batch_size\n",
    "        self.num_batches = math.ceil(len(images) / batch_size)\n",
    "    \n",
    "    def next(self) :\n",
    "        images = self.images[self.index : self.index + self.batch_size]\n",
    "        labels = self.labels[self.index : self.index + self.batch_size]\n",
    "        self.index += self.batch_size\n",
    "        return images, labels"
   ]
  },
  {
   "cell_type": "code",
   "execution_count": 17,
   "metadata": {},
   "outputs": [],
   "source": [
    "def one_training_step(model, images_batch, labels_batch) :\n",
    "    \n",
    "    learning_rate = 1e-3\n",
    "    optimizer = optimizers.SGD(learning_rate = 1e-3)\n",
    "    \n",
    "    def update_weights(gradients, weights) :\n",
    "        #for g, w in zip(gradients, weights) :\n",
    "        #    w.assign_sub(g * learning_rate)\n",
    "        optimizer.apply_gradients(zip(gradients, weights))\n",
    "            \n",
    "    with tf.GradientTape() as tape :\n",
    "        predictions = model(images_batch)\n",
    "        per_sample_losses = tf.keras.losses.sparse_categorical_crossentropy(\n",
    "            labels_batch, predictions)\n",
    "        average_loss = tf.reduce_mean(per_sample_losses)\n",
    "    gradients = tape.gradient(average_loss, model.weights)\n",
    "    update_weights(gradients, model.weights)\n",
    "    return average_loss\n",
    "\n"
   ]
  },
  {
   "cell_type": "code",
   "execution_count": 18,
   "metadata": {},
   "outputs": [],
   "source": [
    "def fit(model, images, labels, epochs, batch_size=128) :\n",
    "    for epoch_counter in range(epochs) :\n",
    "        print(f\"에포크 {epoch_counter} \")\n",
    "        batch_generator = BatchGenerator(images, labels)\n",
    "        for batch_counter in range(batch_generator.num_batches) :\n",
    "            images_batch, labels_batch = batch_generator.next()\n",
    "            loss = one_training_step(model, images_batch, labels_batch)\n",
    "            if batch_counter % 100 == 0:\n",
    "                print(f\"{batch_counter}번째 배치 손실: {loss:.2f}\")"
   ]
  },
  {
   "cell_type": "code",
   "execution_count": 21,
   "metadata": {},
   "outputs": [
    {
     "name": "stdout",
     "output_type": "stream",
     "text": [
      "에포크 0 \n",
      "0번째 배치 손실: 3.44\n",
      "100번째 배치 손실: 2.22\n",
      "200번째 배치 손실: 2.18\n",
      "300번째 배치 손실: 2.10\n",
      "400번째 배치 손실: 2.18\n",
      "에포크 1 \n",
      "0번째 배치 손실: 1.90\n",
      "100번째 배치 손실: 1.86\n",
      "200번째 배치 손실: 1.81\n",
      "300번째 배치 손실: 1.72\n",
      "400번째 배치 손실: 1.80\n",
      "에포크 2 \n",
      "0번째 배치 손실: 1.58\n",
      "100번째 배치 손실: 1.56\n",
      "200번째 배치 손실: 1.49\n",
      "300번째 배치 손실: 1.43\n",
      "400번째 배치 손실: 1.49\n",
      "에포크 3 \n",
      "0번째 배치 손실: 1.32\n",
      "100번째 배치 손실: 1.33\n",
      "200번째 배치 손실: 1.23\n",
      "300번째 배치 손실: 1.22\n",
      "400번째 배치 손실: 1.25\n",
      "에포크 4 \n",
      "0번째 배치 손실: 1.13\n",
      "100번째 배치 손실: 1.15\n",
      "200번째 배치 손실: 1.04\n",
      "300번째 배치 손실: 1.06\n",
      "400번째 배치 손실: 1.09\n",
      "에포크 5 \n",
      "0번째 배치 손실: 0.99\n",
      "100번째 배치 손실: 1.02\n",
      "200번째 배치 손실: 0.90\n",
      "300번째 배치 손실: 0.94\n",
      "400번째 배치 손실: 0.97\n",
      "에포크 6 \n",
      "0번째 배치 손실: 0.89\n",
      "100번째 배치 손실: 0.91\n",
      "200번째 배치 손실: 0.80\n",
      "300번째 배치 손실: 0.85\n",
      "400번째 배치 손실: 0.89\n",
      "에포크 7 \n",
      "0번째 배치 손실: 0.81\n",
      "100번째 배치 손실: 0.83\n",
      "200번째 배치 손실: 0.72\n",
      "300번째 배치 손실: 0.79\n",
      "400번째 배치 손실: 0.82\n",
      "에포크 8 \n",
      "0번째 배치 손실: 0.74\n",
      "100번째 배치 손실: 0.76\n",
      "200번째 배치 손실: 0.66\n",
      "300번째 배치 손실: 0.73\n",
      "400번째 배치 손실: 0.77\n",
      "에포크 9 \n",
      "0번째 배치 손실: 0.69\n",
      "100번째 배치 손실: 0.71\n",
      "200번째 배치 손실: 0.62\n",
      "300번째 배치 손실: 0.69\n",
      "400번째 배치 손실: 0.73\n"
     ]
    }
   ],
   "source": [
    "from tensorflow.keras.datasets import mnist\n",
    "\n",
    "(train_images, train_labels), (test_images, test_labels) = mnist.load_data() # MNIST 에 있는 훈련 세트와 테스트 세트를 가져와 저장\n",
    "\n",
    "\n",
    "train_images = train_images.reshape((60000, 28 * 28))\n",
    "# 60000, 784\n",
    "train_images = train_images.astype(\"float32\") / 255\n",
    "test_images = test_images.reshape((10000, 28 * 28))\n",
    "test_images = test_images.astype(\"float32\") / 255\n",
    "\n",
    "fit(model, train_images, train_labels, epochs=10, batch_size=128)"
   ]
  },
  {
   "cell_type": "code",
   "execution_count": 26,
   "metadata": {},
   "outputs": [
    {
     "name": "stdout",
     "output_type": "stream",
     "text": [
      "정확도 0.81\n"
     ]
    }
   ],
   "source": [
    "predictions = model(test_images)\n",
    "predictions = predictions.numpy()\n",
    "predicted_labels = np.argmax(predictions, axis=1)\n",
    "matches = predicted_labels == test_labels\n",
    "print(f\"정확도 {matches.mean():.2f}\")"
   ]
  },
  {
   "cell_type": "code",
   "execution_count": 2,
   "metadata": {},
   "outputs": [],
   "source": []
  },
  {
   "cell_type": "code",
   "execution_count": 4,
   "metadata": {},
   "outputs": [
    {
     "name": "stdout",
     "output_type": "stream",
     "text": [
      "tf.Tensor(6.0, shape=(), dtype=float32)\n"
     ]
    }
   ],
   "source": []
  }
 ],
 "metadata": {
  "kernelspec": {
   "display_name": "keras",
   "language": "python",
   "name": "python3"
  },
  "language_info": {
   "codemirror_mode": {
    "name": "ipython",
    "version": 3
   },
   "file_extension": ".py",
   "mimetype": "text/x-python",
   "name": "python",
   "nbconvert_exporter": "python",
   "pygments_lexer": "ipython3",
   "version": "3.7.16"
  },
  "orig_nbformat": 4
 },
 "nbformat": 4,
 "nbformat_minor": 2
}
