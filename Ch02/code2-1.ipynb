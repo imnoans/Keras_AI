{
 "cells": [
  {
   "attachments": {},
   "cell_type": "markdown",
   "metadata": {},
   "source": [
    "# mnist 학습"
   ]
  },
  {
   "cell_type": "code",
   "execution_count": 1,
   "metadata": {},
   "outputs": [],
   "source": [
    "import tensorflow\n",
    "from tensorflow.keras.datasets import mnist\n",
    "from tensorflow import keras\n",
    "from tensorflow.keras import layers"
   ]
  },
  {
   "cell_type": "code",
   "execution_count": 2,
   "metadata": {},
   "outputs": [],
   "source": [
    "(train_images, train_labels), (test_images, test_labels) = mnist.load_data() # MNIST 에 있는 훈련 세트와 테스트 세트를 가져와 저장\n",
    "\n",
    "\n",
    "train_images = train_images.reshape((60000, 28 * 28))\n",
    "# 60000, 784\n",
    "train_images = train_images.astype(\"float32\") / 255\n",
    "test_images = test_images.reshape((10000, 28 * 28))\n",
    "test_images = test_images.astype(\"float32\") / 255"
   ]
  },
  {
   "attachments": {},
   "cell_type": "markdown",
   "metadata": {},
   "source": [
    "- 입력 이미지의 데이터 타입\n",
    "    - float32\n",
    "- 훈련 데이터는 (60000, 784) 테스트 데이터는 (10000, 784) 크기의 넘파이 배열로 저장"
   ]
  },
  {
   "cell_type": "code",
   "execution_count": 3,
   "metadata": {},
   "outputs": [],
   "source": [
    "model = keras.Sequential([\n",
    "    layers.Dense(512, activation='relu'),\n",
    "    layers.Dense(10, activation='softmax')\n",
    "])"
   ]
  },
  {
   "attachments": {},
   "cell_type": "markdown",
   "metadata": {},
   "source": [
    "- 2개의 Dense(fully connected) 층이 연결되어 있음\n",
    "- 각 층은 가중치 텐서를 포함하여 입력 데이터에 대한 몇 개의 간단한 텐서 연산을 적용\n",
    "    - 가중치 텐서는 모델이 정보를 저장하는 곳"
   ]
  },
  {
   "cell_type": "code",
   "execution_count": 4,
   "metadata": {},
   "outputs": [],
   "source": [
    "model.compile(optimizer=\"rmsprop\", \n",
    "              loss=\"sparse_categorical_crossentropy\",\n",
    "              metrics=[\"accuracy\"])"
   ]
  },
  {
   "attachments": {},
   "cell_type": "markdown",
   "metadata": {},
   "source": [
    "- sparse_categoical_crossentropy\n",
    "    - 손실 함수\n",
    "    - 가중치 텐서를 학습하기 위한 피드백 신호로 사용\n",
    "    - 훈련하는 동안 최소화됨\n",
    "- rmsprop\n",
    "    - 미니 배치 확률적 경사 하강법을 통해 손실이 감소\n",
    "\n",
    "[Optimizer 종류 및 정리](https://velog.io/@chang0517/Optimizer-종류-및-정리)\n",
    "\n",
    "- accuracy\n",
    "    - 훈련 척도를 판단"
   ]
  },
  {
   "cell_type": "code",
   "execution_count": 25,
   "metadata": {},
   "outputs": [
    {
     "data": {
      "text/plain": [
       "keras.engine.sequential.Sequential"
      ]
     },
     "execution_count": 25,
     "metadata": {},
     "output_type": "execute_result"
    }
   ],
   "source": [
    "type(model)"
   ]
  },
  {
   "cell_type": "code",
   "execution_count": null,
   "metadata": {},
   "outputs": [],
   "source": [
    "model.compil(optimizer=keras.optimizers.RMSprop(learning_rate=1e-4),\n",
    "             loss=keras.losses.MeanSquaredError(),\n",
    "             metrics=[keras.metrics.BinaryAccuracy])"
   ]
  },
  {
   "cell_type": "code",
   "execution_count": 5,
   "metadata": {},
   "outputs": [
    {
     "name": "stdout",
     "output_type": "stream",
     "text": [
      "Epoch 1/5\n",
      "469/469 [==============================] - 4s 8ms/step - loss: 0.2605 - accuracy: 0.9252\n",
      "Epoch 2/5\n",
      "469/469 [==============================] - 4s 9ms/step - loss: 0.1038 - accuracy: 0.9694\n",
      "Epoch 3/5\n",
      "469/469 [==============================] - 4s 9ms/step - loss: 0.0677 - accuracy: 0.9799\n",
      "Epoch 4/5\n",
      "469/469 [==============================] - 4s 9ms/step - loss: 0.0490 - accuracy: 0.9859\n",
      "Epoch 5/5\n",
      "469/469 [==============================] - 4s 9ms/step - loss: 0.0370 - accuracy: 0.9888\n"
     ]
    },
    {
     "data": {
      "text/plain": [
       "<keras.callbacks.History at 0x25b2077aac8>"
      ]
     },
     "execution_count": 5,
     "metadata": {},
     "output_type": "execute_result"
    }
   ],
   "source": [
    "model.fit(train_images, train_labels, epochs=5, batch_size=128)\n",
    "# 모델을 train_images와 train_labels를 이용하여 훈련시킴."
   ]
  },
  {
   "attachments": {},
   "cell_type": "markdown",
   "metadata": {},
   "source": [
    "- fit() method 호출\n",
    "    - 모델이 128개 샘플ㄹ의 미니 배치로 훈련 데이터를 다섯 번 반복\n",
    "        - 전체 훈련 데이터에 수행되는 각 반복을 에포크(epoch)라고 함\n",
    "    - 각 배치에서 모델이 가중치에 대한 손실의 그래디언트를 계산\n",
    "        - 이 배치에서 손실 값을 감소시키는 방향으로 가중치를 이동"
   ]
  },
  {
   "cell_type": "code",
   "execution_count": 6,
   "metadata": {},
   "outputs": [
    {
     "name": "stdout",
     "output_type": "stream",
     "text": [
      "1/1 [==============================] - 0s 127ms/step\n"
     ]
    },
    {
     "data": {
      "text/plain": [
       "array([8.1761653e-10, 1.2177274e-12, 1.0572943e-06, 4.5933384e-06,\n",
       "       7.3575868e-13, 3.4756656e-08, 4.7727245e-15, 9.9999386e-01,\n",
       "       6.9427223e-08, 2.3376178e-07], dtype=float32)"
      ]
     },
     "execution_count": 6,
     "metadata": {},
     "output_type": "execute_result"
    }
   ],
   "source": [
    "test_digits = test_images[0:10]\n",
    "predictions = model.predict(test_digits)\n",
    "predictions[0]"
   ]
  },
  {
   "cell_type": "code",
   "execution_count": 7,
   "metadata": {},
   "outputs": [
    {
     "data": {
      "text/plain": [
       "7"
      ]
     },
     "execution_count": 7,
     "metadata": {},
     "output_type": "execute_result"
    }
   ],
   "source": [
    "predictions[0].argmax()\n",
    "# 가장 큰 값을 가지는 인덱스를 출력"
   ]
  },
  {
   "cell_type": "code",
   "execution_count": 8,
   "metadata": {},
   "outputs": [
    {
     "data": {
      "text/plain": [
       "0.99999386"
      ]
     },
     "execution_count": 8,
     "metadata": {},
     "output_type": "execute_result"
    }
   ],
   "source": [
    "predictions[0][7]\n",
    "# predictions[0]이 7일 확률"
   ]
  },
  {
   "cell_type": "code",
   "execution_count": 9,
   "metadata": {},
   "outputs": [
    {
     "data": {
      "text/plain": [
       "7"
      ]
     },
     "execution_count": 9,
     "metadata": {},
     "output_type": "execute_result"
    }
   ],
   "source": [
    "test_labels[0]\n",
    "# test_labels의 값을 확인\n",
    "# 7이므로 예측에 성공했음"
   ]
  },
  {
   "cell_type": "code",
   "execution_count": 10,
   "metadata": {},
   "outputs": [
    {
     "name": "stdout",
     "output_type": "stream",
     "text": [
      "313/313 [==============================] - 1s 2ms/step - loss: 0.0665 - accuracy: 0.9800\n",
      "테스트 정확도: 0.9800000190734863\n"
     ]
    }
   ],
   "source": [
    "test_loss, test_acc = model.evaluate(test_images, test_labels)\n",
    "print(f\"테스트 정확도: {test_acc}\")"
   ]
  },
  {
   "attachments": {},
   "cell_type": "markdown",
   "metadata": {},
   "source": [
    "# 원소별 연산"
   ]
  },
  {
   "cell_type": "code",
   "execution_count": 11,
   "metadata": {},
   "outputs": [],
   "source": [
    "import numpy as np\n",
    "import time"
   ]
  },
  {
   "cell_type": "code",
   "execution_count": 12,
   "metadata": {},
   "outputs": [],
   "source": [
    "x = np.random.random((20, 100))\n",
    "y = np.random.random((20, 100))"
   ]
  },
  {
   "attachments": {},
   "cell_type": "markdown",
   "metadata": {},
   "source": [
    "### relu 함수 구현"
   ]
  },
  {
   "cell_type": "code",
   "execution_count": 13,
   "metadata": {},
   "outputs": [],
   "source": [
    "def naive_relu(x) :\n",
    "    assert len(x.shape) == 2 # x는 랭크-2 넘파이 배열\n",
    "    x = x.copy()  # 입력 텐서 자체를 바꾸지 않도록 복사\n",
    "    for i in range(x.shape[0]):\n",
    "        for j in range(x.shape[1]):\n",
    "            x[i, j] = max(x[i, j], 0)\n",
    "    return x"
   ]
  },
  {
   "attachments": {},
   "cell_type": "markdown",
   "metadata": {},
   "source": [
    "### 덧셈"
   ]
  },
  {
   "cell_type": "code",
   "execution_count": 14,
   "metadata": {},
   "outputs": [],
   "source": [
    "def naive_add(x, y):\n",
    "    assert len(x.shape) == 2 # x는 랭크-2 넘파이 배열\n",
    "    assert x.shape == y.shape\n",
    "    x = x.copy()  # 입력 텐서 자체를 바꾸지 않도록 복사\n",
    "    for i in range(x.shape[0]):\n",
    "        for j in range(x.shape[1]):\n",
    "            x[i, j] += y[i, j]\n",
    "    return x"
   ]
  },
  {
   "attachments": {},
   "cell_type": "markdown",
   "metadata": {},
   "source": [
    "# 넘파이 원소별 연산"
   ]
  },
  {
   "cell_type": "code",
   "execution_count": 15,
   "metadata": {},
   "outputs": [
    {
     "name": "stdout",
     "output_type": "stream",
     "text": [
      "[[0.21955958 0.7019504  0.34630893 ... 0.90744279 0.93075994 1.03072054]\n",
      " [1.20842744 1.33730377 0.33587193 ... 1.74542702 0.81193457 0.95162382]\n",
      " [1.66051933 0.809951   1.25767017 ... 0.2126789  0.77049905 1.1472142 ]\n",
      " ...\n",
      " [1.39456061 0.17034732 0.64846586 ... 0.48722362 0.69081215 0.25014808]\n",
      " [0.72451213 1.05000398 0.54256297 ... 1.10855373 0.76943757 1.84872601]\n",
      " [0.77843913 0.56484923 1.17622587 ... 0.37550032 1.05307779 1.09232998]]\n",
      "걸린 시간:  0.008975 s\n"
     ]
    }
   ],
   "source": [
    "t0 = time.time()\n",
    "z = naive_add(x, y)\n",
    "r = naive_relu(z)\n",
    "\n",
    "print(r)\n",
    "print(\"걸린 시간: {0: 2f} s\".format(time.time() - t0))\n"
   ]
  },
  {
   "cell_type": "code",
   "execution_count": 16,
   "metadata": {},
   "outputs": [
    {
     "name": "stdout",
     "output_type": "stream",
     "text": [
      "[[0.21955958 0.7019504  0.34630893 ... 0.90744279 0.93075994 1.03072054]\n",
      " [1.20842744 1.33730377 0.33587193 ... 1.74542702 0.81193457 0.95162382]\n",
      " [1.66051933 0.809951   1.25767017 ... 0.2126789  0.77049905 1.1472142 ]\n",
      " ...\n",
      " [1.39456061 0.17034732 0.64846586 ... 0.48722362 0.69081215 0.25014808]\n",
      " [0.72451213 1.05000398 0.54256297 ... 1.10855373 0.76943757 1.84872601]\n",
      " [0.77843913 0.56484923 1.17622587 ... 0.37550032 1.05307779 1.09232998]]\n",
      "걸린 시간:  0.000991 s\n"
     ]
    }
   ],
   "source": [
    "t0 = time.time()\n",
    "z = x + y # 원소별 덧셈\n",
    "z = np.maximum(z, 0.) # 원소별 렐루 함수\n",
    "print(r)\n",
    "print(\"걸린 시간: {0: 2f} s\".format(time.time() - t0))"
   ]
  },
  {
   "attachments": {},
   "cell_type": "markdown",
   "metadata": {},
   "source": [
    "# 브로드캐스팅"
   ]
  },
  {
   "cell_type": "code",
   "execution_count": 17,
   "metadata": {},
   "outputs": [
    {
     "data": {
      "text/plain": [
       "300"
      ]
     },
     "execution_count": 17,
     "metadata": {},
     "output_type": "execute_result"
    }
   ],
   "source": [
    "x = np.random.random((300, 200))\n",
    "y = np.random.random((200))\n",
    "x.shape[0]"
   ]
  },
  {
   "cell_type": "code",
   "execution_count": 18,
   "metadata": {},
   "outputs": [
    {
     "data": {
      "text/plain": [
       "(1, 200)"
      ]
     },
     "execution_count": 18,
     "metadata": {},
     "output_type": "execute_result"
    }
   ],
   "source": [
    "# y에 비어 있는 첫 번째 축을 추가하여 크기를 (1, 10)으로 만든다\n",
    "y = np.expand_dims(y, axis=0)\n",
    "\n",
    "y.shape"
   ]
  },
  {
   "cell_type": "code",
   "execution_count": 19,
   "metadata": {},
   "outputs": [
    {
     "data": {
      "text/plain": [
       "(300, 200)"
      ]
     },
     "execution_count": 19,
     "metadata": {},
     "output_type": "execute_result"
    }
   ],
   "source": [
    "# y를 이 축에 32번 반복\n",
    "# 텐서 y의 크기는 (32, 10)이 된다.\n",
    "# y[i, :] == y for i in range(0, 32)\n",
    "# 실제로 이루어지면 비요율적이므로 알고리즘 수준에서 일어남\n",
    "\n",
    "y = np.concatenate([y] * 300, axis=0)\n",
    "y.shape"
   ]
  },
  {
   "cell_type": "code",
   "execution_count": 20,
   "metadata": {},
   "outputs": [],
   "source": [
    "def naive_add_matrix_and_vector(x, y) :\n",
    "    assert len(x.shape) == 2 # 행렬\n",
    "    assert len(y.shape) == 1 # 벡터\n",
    "    assert x.shape[1] == y.shape[0]\n",
    "    x = x.copy() # 입력 텐서 자체를 바꾸지 않도록 복사\n",
    "    for i in range(x.shape[0]) : # len(x)\n",
    "        for j in range(x.shape[1]) : # len(x[])\n",
    "            x[i, j] += y[j]\n",
    "    return x"
   ]
  },
  {
   "cell_type": "code",
   "execution_count": 21,
   "metadata": {},
   "outputs": [
    {
     "name": "stdout",
     "output_type": "stream",
     "text": [
      "걸린 시간:  0.000000 s\n"
     ]
    },
    {
     "data": {
      "text/plain": [
       "(300, 200)"
      ]
     },
     "execution_count": 21,
     "metadata": {},
     "output_type": "execute_result"
    }
   ],
   "source": [
    "t0 = time.time()\n",
    "z = x + y\n",
    "\n",
    "print(\"걸린 시간: {0: 2f} s\".format(time.time() - t0))\n",
    "z.shape"
   ]
  },
  {
   "cell_type": "code",
   "execution_count": 22,
   "metadata": {},
   "outputs": [
    {
     "ename": "AssertionError",
     "evalue": "",
     "output_type": "error",
     "traceback": [
      "\u001b[1;31m---------------------------------------------------------------------------\u001b[0m",
      "\u001b[1;31mAssertionError\u001b[0m                            Traceback (most recent call last)",
      "\u001b[1;32m~\\AppData\\Local\\Temp\\ipykernel_16508\\780175650.py\u001b[0m in \u001b[0;36m<module>\u001b[1;34m\u001b[0m\n\u001b[0;32m      1\u001b[0m \u001b[0mt0\u001b[0m \u001b[1;33m=\u001b[0m \u001b[0mtime\u001b[0m\u001b[1;33m.\u001b[0m\u001b[0mtime\u001b[0m\u001b[1;33m(\u001b[0m\u001b[1;33m)\u001b[0m\u001b[1;33m\u001b[0m\u001b[1;33m\u001b[0m\u001b[0m\n\u001b[1;32m----> 2\u001b[1;33m \u001b[0mz\u001b[0m \u001b[1;33m=\u001b[0m \u001b[0mnaive_add_matrix_and_vector\u001b[0m\u001b[1;33m(\u001b[0m\u001b[0mx\u001b[0m\u001b[1;33m,\u001b[0m \u001b[0my\u001b[0m\u001b[1;33m)\u001b[0m\u001b[1;33m\u001b[0m\u001b[1;33m\u001b[0m\u001b[0m\n\u001b[0m\u001b[0;32m      3\u001b[0m \u001b[1;33m\u001b[0m\u001b[0m\n\u001b[0;32m      4\u001b[0m \u001b[0mprint\u001b[0m\u001b[1;33m(\u001b[0m\u001b[1;34m\"걸린 시간: {0: 2f} s\"\u001b[0m\u001b[1;33m.\u001b[0m\u001b[0mformat\u001b[0m\u001b[1;33m(\u001b[0m\u001b[0mtime\u001b[0m\u001b[1;33m.\u001b[0m\u001b[0mtime\u001b[0m\u001b[1;33m(\u001b[0m\u001b[1;33m)\u001b[0m \u001b[1;33m-\u001b[0m \u001b[0mt0\u001b[0m\u001b[1;33m)\u001b[0m\u001b[1;33m)\u001b[0m\u001b[1;33m\u001b[0m\u001b[1;33m\u001b[0m\u001b[0m\n\u001b[0;32m      5\u001b[0m \u001b[0mz\u001b[0m\u001b[1;33m.\u001b[0m\u001b[0mshape\u001b[0m\u001b[1;33m\u001b[0m\u001b[1;33m\u001b[0m\u001b[0m\n",
      "\u001b[1;32m~\\AppData\\Local\\Temp\\ipykernel_16508\\3770260013.py\u001b[0m in \u001b[0;36mnaive_add_matrix_and_vector\u001b[1;34m(x, y)\u001b[0m\n\u001b[0;32m      1\u001b[0m \u001b[1;32mdef\u001b[0m \u001b[0mnaive_add_matrix_and_vector\u001b[0m\u001b[1;33m(\u001b[0m\u001b[0mx\u001b[0m\u001b[1;33m,\u001b[0m \u001b[0my\u001b[0m\u001b[1;33m)\u001b[0m \u001b[1;33m:\u001b[0m\u001b[1;33m\u001b[0m\u001b[1;33m\u001b[0m\u001b[0m\n\u001b[0;32m      2\u001b[0m     \u001b[1;32massert\u001b[0m \u001b[0mlen\u001b[0m\u001b[1;33m(\u001b[0m\u001b[0mx\u001b[0m\u001b[1;33m.\u001b[0m\u001b[0mshape\u001b[0m\u001b[1;33m)\u001b[0m \u001b[1;33m==\u001b[0m \u001b[1;36m2\u001b[0m \u001b[1;31m# 행렬\u001b[0m\u001b[1;33m\u001b[0m\u001b[1;33m\u001b[0m\u001b[0m\n\u001b[1;32m----> 3\u001b[1;33m     \u001b[1;32massert\u001b[0m \u001b[0mlen\u001b[0m\u001b[1;33m(\u001b[0m\u001b[0my\u001b[0m\u001b[1;33m.\u001b[0m\u001b[0mshape\u001b[0m\u001b[1;33m)\u001b[0m \u001b[1;33m==\u001b[0m \u001b[1;36m1\u001b[0m \u001b[1;31m# 벡터\u001b[0m\u001b[1;33m\u001b[0m\u001b[1;33m\u001b[0m\u001b[0m\n\u001b[0m\u001b[0;32m      4\u001b[0m     \u001b[1;32massert\u001b[0m \u001b[0mx\u001b[0m\u001b[1;33m.\u001b[0m\u001b[0mshape\u001b[0m\u001b[1;33m[\u001b[0m\u001b[1;36m1\u001b[0m\u001b[1;33m]\u001b[0m \u001b[1;33m==\u001b[0m \u001b[0my\u001b[0m\u001b[1;33m.\u001b[0m\u001b[0mshape\u001b[0m\u001b[1;33m[\u001b[0m\u001b[1;36m0\u001b[0m\u001b[1;33m]\u001b[0m\u001b[1;33m\u001b[0m\u001b[1;33m\u001b[0m\u001b[0m\n\u001b[0;32m      5\u001b[0m     \u001b[0mx\u001b[0m \u001b[1;33m=\u001b[0m \u001b[0mx\u001b[0m\u001b[1;33m.\u001b[0m\u001b[0mcopy\u001b[0m\u001b[1;33m(\u001b[0m\u001b[1;33m)\u001b[0m \u001b[1;31m# 입력 텐서 자체를 바꾸지 않도록 복사\u001b[0m\u001b[1;33m\u001b[0m\u001b[1;33m\u001b[0m\u001b[0m\n",
      "\u001b[1;31mAssertionError\u001b[0m: "
     ]
    }
   ],
   "source": [
    "t0 = time.time()\n",
    "z = naive_add_matrix_and_vector(x, y)\n",
    "\n",
    "print(\"걸린 시간: {0: 2f} s\".format(time.time() - t0))\n",
    "z.shape"
   ]
  },
  {
   "attachments": {},
   "cell_type": "markdown",
   "metadata": {},
   "source": [
    "# 텐서 곱셈(점곱)"
   ]
  },
  {
   "cell_type": "code",
   "execution_count": null,
   "metadata": {},
   "outputs": [
    {
     "name": "stdout",
     "output_type": "stream",
     "text": [
      "(300, 200)\n"
     ]
    }
   ],
   "source": [
    "x = np.random.random((300, 100))\n",
    "y = np.random.random((100, 200))\n",
    "n = np.dot(x, y)\n",
    "\n",
    "print(n.shape)\n"
   ]
  },
  {
   "cell_type": "code",
   "execution_count": null,
   "metadata": {},
   "outputs": [],
   "source": [
    "def my_matrix_dot(x, y) :\n",
    "    assert len(x.shape) == len(y.shape)\n",
    "    assert x.shape[1] == y.shape[0]\n",
    "    z = np.zeros((x.shape[0], y.shape[1]), dtype=float)\n",
    "    for i in range(x.shape[0]) :\n",
    "        for j in range(y.shape[1]) :\n",
    "            for k in range(x.shape[1]) :\n",
    "                z[i, j] += x[i, k] * y[k, j]\n",
    "    return z"
   ]
  },
  {
   "cell_type": "code",
   "execution_count": null,
   "metadata": {},
   "outputs": [
    {
     "name": "stdout",
     "output_type": "stream",
     "text": [
      "[[0.21220707 0.32122658 0.30471821 ... 0.16879869 0.71069028 0.43218136]\n",
      " [0.94995394 0.27114344 0.31901023 ... 0.07357104 0.62965391 0.35025315]\n",
      " [0.44073104 0.88724855 0.86742679 ... 0.19789265 0.43693749 0.28512642]\n",
      " ...\n",
      " [0.3841409  0.7883325  0.96652127 ... 0.08439272 0.91571374 0.88751818]\n",
      " [0.5766854  0.19581061 0.42890274 ... 0.79426132 0.22968651 0.28816944]\n",
      " [0.22826123 0.12512395 0.83863153 ... 0.46675371 0.41773987 0.5221204 ]] [[0.60363849 0.87238091 0.77833025 ... 0.49751104 0.42692533 0.81706044]\n",
      " [0.76577703 0.05973845 0.98206379 ... 0.63923827 0.280827   0.54323107]\n",
      " [0.61449565 0.36020628 0.6221354  ... 0.35607232 0.22010692 0.98999782]\n",
      " ...\n",
      " [0.14703719 0.19597317 0.66806201 ... 0.67315202 0.58206843 0.42091061]\n",
      " [0.94653852 0.65163446 0.13741731 ... 0.89770702 0.94822923 0.95783474]\n",
      " [0.75324721 0.64045216 0.13173775 ... 0.28758528 0.15215775 0.8341417 ]]\n",
      "[[25.43261795 24.35578357 24.82861103 ... 26.90587443 27.10773216\n",
      "  25.1365987 ]\n",
      " [26.09851501 25.56460397 27.14648228 ... 27.05514095 24.32427744\n",
      "  23.99167037]\n",
      " [27.89192095 26.57123732 26.0129996  ... 27.03318337 26.36453993\n",
      "  26.2000945 ]\n",
      " ...\n",
      " [26.75828064 24.04978039 26.21163212 ... 25.84443693 23.58633236\n",
      "  25.49478373]\n",
      " [25.59086458 25.42814512 26.80227265 ... 26.45521765 23.64845261\n",
      "  24.59164668]\n",
      " [24.77692272 25.2107622  25.76937185 ... 28.0395703  24.46572979\n",
      "  24.45086963]]\n"
     ]
    }
   ],
   "source": [
    "z = np.dot(x, y)"
   ]
  },
  {
   "cell_type": "code",
   "execution_count": null,
   "metadata": {},
   "outputs": [
    {
     "name": "stdout",
     "output_type": "stream",
     "text": [
      "[[25.43261795 24.35578357 24.82861103 ... 26.90587443 27.10773216\n",
      "  25.1365987 ]\n",
      " [26.09851501 25.56460397 27.14648228 ... 27.05514095 24.32427744\n",
      "  23.99167037]\n",
      " [27.89192095 26.57123732 26.0129996  ... 27.03318337 26.36453993\n",
      "  26.2000945 ]\n",
      " ...\n",
      " [26.75828064 24.04978039 26.21163212 ... 25.84443693 23.58633236\n",
      "  25.49478373]\n",
      " [25.59086458 25.42814512 26.80227265 ... 26.45521765 23.64845261\n",
      "  24.59164668]\n",
      " [24.77692272 25.2107622  25.76937185 ... 28.0395703  24.46572979\n",
      "  24.45086963]]\n"
     ]
    }
   ],
   "source": [
    "z = my_matrix_dot(x, y)\n",
    "print(z)"
   ]
  },
  {
   "cell_type": "code",
   "execution_count": null,
   "metadata": {},
   "outputs": [],
   "source": [
    "def naive_vector_dot(x, y) :\n",
    "    assert len(x.shape) == 1\n",
    "    assert len(y.shape) == 1\n",
    "    assert x.shape[0] == y.shape[0]\n",
    "    z = 0.\n",
    "    for i in range(x.shape[0]) :\n",
    "        z += x[i] * y[i]\n",
    "    return z"
   ]
  },
  {
   "cell_type": "code",
   "execution_count": null,
   "metadata": {},
   "outputs": [],
   "source": [
    "def naive_matrix_dot(x, y):\n",
    "    assert len(x.shape) == 2\n",
    "    assert len(y.shape) == 2\n",
    "    assert x.shape[1] == y.shape[0]\n",
    "    z = np.zeros((x.shape[0], y.shape[1]))\n",
    "    for i in range(x.shape[0]):\n",
    "        for j in range(y.shape[1]):\n",
    "            row_x = x[i, :]\n",
    "            column_y = y[:, j]\n",
    "            z[i, j] = naive_vector_dot(row_x, column_y)\n",
    "    return z"
   ]
  },
  {
   "cell_type": "code",
   "execution_count": null,
   "metadata": {},
   "outputs": [
    {
     "name": "stdout",
     "output_type": "stream",
     "text": [
      "[[25.43261795 24.35578357 24.82861103 ... 26.90587443 27.10773216\n",
      "  25.1365987 ]\n",
      " [26.09851501 25.56460397 27.14648228 ... 27.05514095 24.32427744\n",
      "  23.99167037]\n",
      " [27.89192095 26.57123732 26.0129996  ... 27.03318337 26.36453993\n",
      "  26.2000945 ]\n",
      " ...\n",
      " [26.75828064 24.04978039 26.21163212 ... 25.84443693 23.58633236\n",
      "  25.49478373]\n",
      " [25.59086458 25.42814512 26.80227265 ... 26.45521765 23.64845261\n",
      "  24.59164668]\n",
      " [24.77692272 25.2107622  25.76937185 ... 28.0395703  24.46572979\n",
      "  24.45086963]]\n"
     ]
    }
   ],
   "source": [
    "z = naive_matrix_dot(x, y)\n",
    "print(z)"
   ]
  },
  {
   "attachments": {},
   "cell_type": "markdown",
   "metadata": {},
   "source": [
    "# 텐서 크기 변환"
   ]
  },
  {
   "cell_type": "code",
   "execution_count": null,
   "metadata": {},
   "outputs": [],
   "source": [
    "x = np.array([[0., 1.],\n",
    "             [2., 3.],\n",
    "             [4., 5.]])"
   ]
  },
  {
   "cell_type": "code",
   "execution_count": null,
   "metadata": {},
   "outputs": [
    {
     "data": {
      "text/plain": [
       "array([[0.],\n",
       "       [1.],\n",
       "       [2.],\n",
       "       [3.],\n",
       "       [4.],\n",
       "       [5.]])"
      ]
     },
     "execution_count": 9,
     "metadata": {},
     "output_type": "execute_result"
    }
   ],
   "source": [
    "x = x.reshape((6, 1))\n",
    "x"
   ]
  },
  {
   "cell_type": "code",
   "execution_count": null,
   "metadata": {},
   "outputs": [
    {
     "data": {
      "text/plain": [
       "array([[0., 1., 2., 3., 4., 5.]])"
      ]
     },
     "execution_count": 11,
     "metadata": {},
     "output_type": "execute_result"
    }
   ],
   "source": [
    "x = x.reshape(1, 6)\n",
    "x"
   ]
  },
  {
   "cell_type": "markdown",
   "metadata": {},
   "source": []
  },
  {
   "attachments": {},
   "cell_type": "markdown",
   "metadata": {},
   "source": [
    "# 연쇄 법칙"
   ]
  },
  {
   "cell_type": "code",
   "execution_count": null,
   "metadata": {},
   "outputs": [],
   "source": [
    "def fg(x) :\n",
    "    x1 = g(x)\n",
    "    y = f(x1)\n",
    "    return y"
   ]
  },
  {
   "cell_type": "code",
   "execution_count": null,
   "metadata": {},
   "outputs": [],
   "source": [
    "grad(y, x) == grad(x1, x)"
   ]
  },
  {
   "cell_type": "code",
   "execution_count": null,
   "metadata": {},
   "outputs": [],
   "source": [
    "def fghj(x) :\n",
    "    x1 =j(x)\n",
    "    x2 = h(x1)\n",
    "    x3 = g(x2)\n",
    "    y = f(x3)\n",
    "    return y"
   ]
  },
  {
   "cell_type": "code",
   "execution_count": null,
   "metadata": {},
   "outputs": [],
   "source": [
    "grad(y, x) == (grad(y, x3) * grad(x3, x2) * grad(x2, x1), grad(x1, x))"
   ]
  }
 ],
 "metadata": {
  "kernelspec": {
   "display_name": "keras",
   "language": "python",
   "name": "python3"
  },
  "language_info": {
   "codemirror_mode": {
    "name": "ipython",
    "version": 3
   },
   "file_extension": ".py",
   "mimetype": "text/x-python",
   "name": "python",
   "nbconvert_exporter": "python",
   "pygments_lexer": "ipython3",
   "version": "3.7.16"
  },
  "orig_nbformat": 4,
  "vscode": {
   "interpreter": {
    "hash": "57af28755954a0c99980fcd63bd8579e2f2573be62270ff416e9f0fa149890ad"
   }
  }
 },
 "nbformat": 4,
 "nbformat_minor": 2
}
