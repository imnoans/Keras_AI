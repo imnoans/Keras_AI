{
 "cells": [
  {
   "cell_type": "code",
   "execution_count": 3,
   "metadata": {},
   "outputs": [],
   "source": [
    "# Layer의 서브클래스(subclass)로 구현한 Dense 층\n",
    "from tensorflow import keras\n",
    "import tensorflow as tf"
   ]
  },
  {
   "cell_type": "code",
   "execution_count": 4,
   "metadata": {},
   "outputs": [],
   "source": [
    "class SimpleDense(keras.layers.Layer) : # 모든 keras 층은 Layer 클래스를 상속\n",
    "    def __init__(self, units, activation=None) :\n",
    "        super().__init__()\n",
    "        self.units = units\n",
    "        self.activation = activation\n",
    "    \n",
    "    def build(self, input_shape) : # build method에서 가중치를 생성\n",
    "        input_dim = input_shape[-1]\n",
    "        self.W = self.add_weight(shape=(input_dim, self.units),\n",
    "                                initializer=\"random_normal\") \n",
    "        # add_weight()는 가중치를 간편하게 만들 수 있는 메서드\n",
    "        # self.W = tf.Variable(tf.random.uniform(w_shape))와 같이 독립적으로 변수를 생성하고 층의 속성으로 할당할 수 있음\n",
    "        self.b = self.add_weight(shape=(self.units),\n",
    "                                initializer=\"zeros\")\n",
    "    \n",
    "    def call(self, inputs) : # 정방향 패스 계산을 정의\n",
    "        y = tf.matmul(inputs, self.W) + self.b\n",
    "        if self.activation is not None :\n",
    "            y = self.activation(y)\n",
    "        return y"
   ]
  },
  {
   "attachments": {},
   "cell_type": "markdown",
   "metadata": {},
   "source": [
    "Python에서는 클래스에 call 메소드를 정의하면 해당 클래스의 인스턴스를 함수처럼 호출할 수 있습니다. \n",
    "\n",
    "예를 들어, x가 X 클래스의 인스턴스이고 call(self)이 정의되어 있다면 x()와 같이 호출할 수 있습니다. 호출된 객체의 반환 값은 call() 메소드의 반환 값입니다."
   ]
  },
  {
   "cell_type": "code",
   "execution_count": 7,
   "metadata": {},
   "outputs": [
    {
     "name": "stdout",
     "output_type": "stream",
     "text": [
      "(2, 32)\n"
     ]
    }
   ],
   "source": [
    "my_dense = SimpleDense(units=32, activation=tf.nn.relu)\n",
    "input_tensor = tf.ones(shape=(2, 784))\n",
    "output_tensor = my_dense(input_tensor)\n",
    "print(output_tensor.shape)"
   ]
  }
 ],
 "metadata": {
  "kernelspec": {
   "display_name": "keras",
   "language": "python",
   "name": "python3"
  },
  "language_info": {
   "codemirror_mode": {
    "name": "ipython",
    "version": 3
   },
   "file_extension": ".py",
   "mimetype": "text/x-python",
   "name": "python",
   "nbconvert_exporter": "python",
   "pygments_lexer": "ipython3",
   "version": "3.7.16"
  },
  "orig_nbformat": 4
 },
 "nbformat": 4,
 "nbformat_minor": 2
}
