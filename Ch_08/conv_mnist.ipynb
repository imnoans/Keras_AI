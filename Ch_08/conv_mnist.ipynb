{
 "cells": [
  {
   "cell_type": "code",
   "execution_count": 2,
   "metadata": {},
   "outputs": [],
   "source": [
    "from tensorflow import keras\n",
    "from keras import layers\n",
    "import numpy as np\n",
    "from keras.datasets import mnist"
   ]
  },
  {
   "cell_type": "code",
   "execution_count": 3,
   "metadata": {},
   "outputs": [],
   "source": [
    "(train_images, train_labels), (test_imgaes, test_labels) = mnist.load_data()\n",
    "train_images = train_images.reshape(60000, 28, 28, 1)\n",
    "train_images = train_images.astype('float32') / 255\n",
    "test_imgaes = test_imgaes.reshape(10000, 28, 28, 1)\n",
    "test_images = test_imgaes.astype('float32') / 255"
   ]
  },
  {
   "cell_type": "code",
   "execution_count": 3,
   "metadata": {},
   "outputs": [],
   "source": [
    "inputs = keras.Input(shape=(28, 28, 1))\n",
    "x = layers.Conv2D(filters=32, kernel_size=3, activation='relu', padding='valid')(inputs) # 26 * 26의 이미지가 32개 만들어진다 (filter마다 하나씩)\n",
    "x = layers.MaxPooling2D(pool_size=2)(x) # 2 * 2MaxPooling을 통해 26 * 26의 이미지가 13 * 13이 된다\n",
    "x = layers.Conv2D(filters=64, kernel_size=3, activation='relu')(x) # 11 * 11의 이미지가 64개 만들어진다 (filter마다 하나씩)\n",
    "x = layers.MaxPooling2D(pool_size=2)(x) # 2 * 2MaxPooling을 통해 11 * 11의 이미지가 5 * 5가 된다\n",
    "x = layers.Conv2D(filters=128, kernel_size=3, strides=2, activation='relu')(x) # 3 * 3의 이미지가 128개 만들어진다 (filter마다 하나씩)\n",
    "x = layers.Flatten()(x) # 벡터 데이터로 변경시킨다\n",
    "outputs = layers.Dense(10, activation='softmax')(x) # 출력 층을 10개의 분류로 지정\n",
    "model = keras.Model(inputs=inputs, outputs=outputs)"
   ]
  },
  {
   "cell_type": "code",
   "execution_count": 4,
   "metadata": {},
   "outputs": [
    {
     "name": "stdout",
     "output_type": "stream",
     "text": [
      "Model: \"model\"\n",
      "_________________________________________________________________\n",
      " Layer (type)                Output Shape              Param #   \n",
      "=================================================================\n",
      " input_1 (InputLayer)        [(None, 28, 28, 1)]       0         \n",
      "                                                                 \n",
      " conv2d (Conv2D)             (None, 26, 26, 32)        320       \n",
      "                                                                 \n",
      " max_pooling2d (MaxPooling2D  (None, 13, 13, 32)       0         \n",
      " )                                                               \n",
      "                                                                 \n",
      " conv2d_1 (Conv2D)           (None, 11, 11, 64)        18496     \n",
      "                                                                 \n",
      " max_pooling2d_1 (MaxPooling  (None, 5, 5, 64)         0         \n",
      " 2D)                                                             \n",
      "                                                                 \n",
      " conv2d_2 (Conv2D)           (None, 2, 2, 128)         73856     \n",
      "                                                                 \n",
      " flatten (Flatten)           (None, 512)               0         \n",
      "                                                                 \n",
      " dense (Dense)               (None, 10)                5130      \n",
      "                                                                 \n",
      "=================================================================\n",
      "Total params: 97,802\n",
      "Trainable params: 97,802\n",
      "Non-trainable params: 0\n",
      "_________________________________________________________________\n"
     ]
    }
   ],
   "source": [
    "model.summary()"
   ]
  },
  {
   "cell_type": "code",
   "execution_count": 4,
   "metadata": {},
   "outputs": [
    {
     "name": "stdout",
     "output_type": "stream",
     "text": [
      "Epoch 1/5\n",
      "938/938 [==============================] - 39s 41ms/step - loss: 0.1531 - accuracy: 0.9524\n",
      "Epoch 2/5\n",
      "938/938 [==============================] - 38s 40ms/step - loss: 0.0447 - accuracy: 0.9861\n",
      "Epoch 3/5\n",
      "938/938 [==============================] - 39s 41ms/step - loss: 0.0308 - accuracy: 0.9905\n",
      "Epoch 4/5\n",
      "938/938 [==============================] - 40s 42ms/step - loss: 0.0240 - accuracy: 0.9923\n",
      "Epoch 5/5\n",
      "938/938 [==============================] - 48s 51ms/step - loss: 0.0189 - accuracy: 0.9944\n"
     ]
    },
    {
     "data": {
      "text/plain": [
       "<keras.callbacks.History at 0x21dbe147388>"
      ]
     },
     "execution_count": 4,
     "metadata": {},
     "output_type": "execute_result"
    }
   ],
   "source": [
    "model.compile(optimizer='rmsprop',\n",
    "              loss='sparse_categorical_crossentropy',\n",
    "              metrics=['accuracy'])\n",
    "\n",
    "model.fit(train_images, train_labels, epochs=5, batch_size=64)"
   ]
  },
  {
   "cell_type": "code",
   "execution_count": 6,
   "metadata": {},
   "outputs": [
    {
     "name": "stdout",
     "output_type": "stream",
     "text": [
      "313/313 [==============================] - 2s 7ms/step - loss: 0.0297 - accuracy: 0.9912\n",
      "테스트 정확도:  0.991\n"
     ]
    }
   ],
   "source": [
    "test_loss, test_acc = model.evaluate(test_images, test_labels)\n",
    "print(f\"테스트 정확도: {test_acc: .3f}\")"
   ]
  }
 ],
 "metadata": {
  "kernelspec": {
   "display_name": "keras",
   "language": "python",
   "name": "python3"
  },
  "language_info": {
   "codemirror_mode": {
    "name": "ipython",
    "version": 3
   },
   "file_extension": ".py",
   "mimetype": "text/x-python",
   "name": "python",
   "nbconvert_exporter": "python",
   "pygments_lexer": "ipython3",
   "version": "3.9.16"
  },
  "orig_nbformat": 4
 },
 "nbformat": 4,
 "nbformat_minor": 2
}
