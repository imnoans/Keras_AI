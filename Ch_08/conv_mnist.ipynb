{
 "cells": [
  {
   "cell_type": "code",
   "execution_count": 1,
   "metadata": {},
   "outputs": [],
   "source": [
    "from tensorflow import keras\n",
    "from keras import layers\n",
    "import numpy as np\n",
    "from keras.datasets import mnist"
   ]
  },
  {
   "cell_type": "code",
   "execution_count": null,
   "metadata": {},
   "outputs": [],
   "source": [
    "(train_images, train_labels), (test_imgaes, test_labels) = mnist.load_data()\n",
    "train_images = train_images.reshape(60000, 28, 28, 1)\n",
    "train_images = train_images.astype('float32') / 255"
   ]
  },
  {
   "cell_type": "code",
   "execution_count": null,
   "metadata": {},
   "outputs": [],
   "source": [
    "inputs = keras.Input(shape=(28, 28, 1))\n",
    "x = layers.Conv2D(filters=32, kernel_size=3, activation='relu')(inputs) # 26 * 26의 이미지가 32개 만들어진다 (filter마다 하나씩)\n",
    "x = layers.MaxPooling2D(pool_size=2)(x) # 2 * 2MaxPooling을 통해 26 * 26의 이미지가 13 * 13이 된다\n",
    "x = layers.Conv2D(filters=64, kernel_size=3, activation='relu')(x) # 11 * 11의 이미지가 64개 만들어진다 (filter마다 하나씩)\n",
    "x = layers.MaxPooling2D(pool_size=2)(x) # 2 * 2MaxPooling을 통해 11 * 11의 이미지가 5 * 5가 된다\n",
    "x = layers.Conv2D(filters=128, kernel_size=3, activation='relu')(x) # 3 * 3의 이미지가 128개 만들어진다 (filter마다 하나씩)\n",
    "x = layers.Flatten()(x) # 벡터 데이터로 변경시킨다\n",
    "outputs = layers.Dense(10, activation='softmax')(x) # 출력 층을 10개의 분류로 지정\n",
    "model = keras.Model(input=inputs, outputs=outputs)"
   ]
  },
  {
   "cell_type": "code",
   "execution_count": null,
   "metadata": {},
   "outputs": [],
   "source": []
  }
 ],
 "metadata": {
  "kernelspec": {
   "display_name": "keras",
   "language": "python",
   "name": "python3"
  },
  "language_info": {
   "codemirror_mode": {
    "name": "ipython",
    "version": 3
   },
   "file_extension": ".py",
   "mimetype": "text/x-python",
   "name": "python",
   "nbconvert_exporter": "python",
   "pygments_lexer": "ipython3",
   "version": "3.7.16"
  },
  "orig_nbformat": 4
 },
 "nbformat": 4,
 "nbformat_minor": 2
}
