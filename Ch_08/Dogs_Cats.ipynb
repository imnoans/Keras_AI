{
 "cells": [
  {
   "cell_type": "code",
   "execution_count": 18,
   "metadata": {},
   "outputs": [],
   "source": [
    "import os, shutil, pathlib\n",
    "from tensorflow import keras\n",
    "from keras import layers\n",
    "import numpy as np\n",
    "from keras.utils import image_dataset_from_directory"
   ]
  },
  {
   "cell_type": "code",
   "execution_count": 5,
   "metadata": {},
   "outputs": [],
   "source": [
    "original_dir = pathlib.Path('C:/Users/KSY/Desktop/Codes/AI/Ch_08/microsoft-catsvsdogs-dataset/PetImages/')\n",
    "new_base_dir = pathlib.Path('cats_vs_dogs_small')"
   ]
  },
  {
   "cell_type": "code",
   "execution_count": 8,
   "metadata": {},
   "outputs": [],
   "source": [
    "# start_index에서 end_index까지의 고양이와 강아지 이미지를 new_base_dir/{subset_name}/cat(dog)으로 복사\n",
    "# 유틸리티 함수 subset_name은 train, validation, test 중 하나\n",
    "def make_subset(subset_name, start_index, end_index) : \n",
    "    for category in ('cat', 'dog') :\n",
    "        dir = new_base_dir / subset_name / category \n",
    "        os.makedirs(dir)\n",
    "        fnames = [f\"{i}.jpg\" #0.jpg와 같이 저장되어 있음\n",
    "                  for i in range(start_index, end_index)]\n",
    "        for fname in fnames :\n",
    "            shutil.copyfile(src=original_dir / category / fname, dst=dir / fname) # 중간에 category가 포함"
   ]
  },
  {
   "cell_type": "code",
   "execution_count": 9,
   "metadata": {},
   "outputs": [],
   "source": [
    "make_subset(\"train\", start_index=0, end_index=1000)"
   ]
  },
  {
   "cell_type": "code",
   "execution_count": 10,
   "metadata": {},
   "outputs": [],
   "source": [
    "make_subset(\"validation\", start_index=1000, end_index=1500)"
   ]
  },
  {
   "cell_type": "code",
   "execution_count": 11,
   "metadata": {},
   "outputs": [],
   "source": [
    "make_subset('test', start_index=1500, end_index=2500)"
   ]
  },
  {
   "cell_type": "code",
   "execution_count": 17,
   "metadata": {},
   "outputs": [],
   "source": [
    "inputs = keras.Input(shape=(180, 180, 3)) # 180 * 180 * 3 크기의 이미지를 기대\n",
    "x = layers.Rescaling(1./255)(inputs) # 입력을 255로 나누어 0 ~ 1 범위로 조정\n",
    "x = layers.Conv2D(filters=32, kernel_size=3, activation='relu')(x) # 출력 크기 178, 178, 32\n",
    "x = layers.MaxPooling2D(pool_size=2)(x) # 출력 크기 89 * 89 * 32\n",
    "x = layers.Conv2D(filters=64, kernel_size=3, activation='relu')(x) # 출력 크기 87, 87, 64\n",
    "x = layers.MaxPooling2D(pool_size=2)(x) # 출력 크기 43, 43, 64\n",
    "x = layers.Conv2D(filters=128, kernel_size=3, activation='relu')(x) # 출력 크기 41, 41, 128\n",
    "x = layers.MaxPooling2D(pool_size=2)(x) # 출력 크기 20, 20, 128\n",
    "x = layers.Conv2D(filters=256, kernel_size=3, activation='relu')(x) # 출력 크기 18, 18, 256\n",
    "x = layers.MaxPooling2D(pool_size=2)(x) # 출력 크기 9, 9, 256\n",
    "x = layers.Conv2D(filters=256, kernel_size=3, activation='relu')(x) # 출력 크기 7, 7, 256\n",
    "x = layers.Flatten()(x) # 출력 크기 7 * 7 * 256 = 12,545\n",
    "outputs = layers.Dense(1, activation='sigmoid')(x)\n",
    "model = keras.Model(inputs=inputs, outputs=outputs)\n",
    "\n",
    "model.compile(optimizer='rmsprop',\n",
    "              loss='binary_crossentropy',\n",
    "              metrics=['accuracy'])"
   ]
  },
  {
   "cell_type": "code",
   "execution_count": 16,
   "metadata": {},
   "outputs": [
    {
     "name": "stdout",
     "output_type": "stream",
     "text": [
      "Model: \"model\"\n",
      "_________________________________________________________________\n",
      " Layer (type)                Output Shape              Param #   \n",
      "=================================================================\n",
      " input_1 (InputLayer)        [(None, 180, 180, 3)]     0         \n",
      "                                                                 \n",
      " rescaling (Rescaling)       (None, 180, 180, 3)       0         \n",
      "                                                                 \n",
      " conv2d (Conv2D)             (None, 178, 178, 32)      896       \n",
      "                                                                 \n",
      " max_pooling2d (MaxPooling2D  (None, 89, 89, 32)       0         \n",
      " )                                                               \n",
      "                                                                 \n",
      " conv2d_1 (Conv2D)           (None, 87, 87, 64)        18496     \n",
      "                                                                 \n",
      " max_pooling2d_1 (MaxPooling  (None, 43, 43, 64)       0         \n",
      " 2D)                                                             \n",
      "                                                                 \n",
      " conv2d_2 (Conv2D)           (None, 41, 41, 128)       73856     \n",
      "                                                                 \n",
      " max_pooling2d_2 (MaxPooling  (None, 20, 20, 128)      0         \n",
      " 2D)                                                             \n",
      "                                                                 \n",
      " conv2d_3 (Conv2D)           (None, 18, 18, 256)       295168    \n",
      "                                                                 \n",
      " max_pooling2d_3 (MaxPooling  (None, 9, 9, 256)        0         \n",
      " 2D)                                                             \n",
      "                                                                 \n",
      " conv2d_4 (Conv2D)           (None, 7, 7, 256)         590080    \n",
      "                                                                 \n",
      " flatten (Flatten)           (None, 12544)             0         \n",
      "                                                                 \n",
      " dense (Dense)               (None, 1)                 12545     \n",
      "                                                                 \n",
      "=================================================================\n",
      "Total params: 991,041\n",
      "Trainable params: 991,041\n",
      "Non-trainable params: 0\n",
      "_________________________________________________________________\n"
     ]
    }
   ],
   "source": [
    "model.summary()"
   ]
  },
  {
   "cell_type": "code",
   "execution_count": 19,
   "metadata": {},
   "outputs": [
    {
     "name": "stdout",
     "output_type": "stream",
     "text": [
      "Found 2000 files belonging to 2 classes.\n",
      "Found 1000 files belonging to 2 classes.\n",
      "Found 2000 files belonging to 2 classes.\n"
     ]
    }
   ],
   "source": [
    "train_dataset = image_dataset_from_directory(\n",
    "    new_base_dir / \"train\", # 아래 있는 디렉터리를 class로 가정\n",
    "    image_size=(180, 180),\n",
    "    batch_size=32)\n",
    "\n",
    "validation_dataset = image_dataset_from_directory(\n",
    "    new_base_dir / \"validation\", # 아래 있는 디렉터리를 class로 가정\n",
    "    image_size=(180, 180),\n",
    "    batch_size=32)\n",
    "\n",
    "test_dataset = image_dataset_from_directory(\n",
    "    new_base_dir / \"test\", # 아래 있는 디렉터리를 class로 가정\n",
    "    image_size=(180, 180),\n",
    "    batch_size=32)"
   ]
  },
  {
   "cell_type": "code",
   "execution_count": 20,
   "metadata": {},
   "outputs": [
    {
     "name": "stdout",
     "output_type": "stream",
     "text": [
      "데이터 배치 크기: (32, 180, 180, 3)\n",
      "레이블 배치 크기: (32,)\n"
     ]
    }
   ],
   "source": [
    "for data_batch, labels_batch in train_dataset :\n",
    "    print(\"데이터 배치 크기:\", data_batch.shape)\n",
    "    print(\"레이블 배치 크기:\", labels_batch.shape)\n",
    "    break"
   ]
  },
  {
   "cell_type": "code",
   "execution_count": null,
   "metadata": {},
   "outputs": [],
   "source": []
  }
 ],
 "metadata": {
  "kernelspec": {
   "display_name": "keras",
   "language": "python",
   "name": "python3"
  },
  "language_info": {
   "codemirror_mode": {
    "name": "ipython",
    "version": 3
   },
   "file_extension": ".py",
   "mimetype": "text/x-python",
   "name": "python",
   "nbconvert_exporter": "python",
   "pygments_lexer": "ipython3",
   "version": "3.7.16"
  },
  "orig_nbformat": 4
 },
 "nbformat": 4,
 "nbformat_minor": 2
}
